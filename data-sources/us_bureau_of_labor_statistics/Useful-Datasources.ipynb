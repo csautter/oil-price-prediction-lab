{
 "cells": [
  {
   "cell_type": "code",
   "execution_count": 1,
   "id": "7e23ddfa-6f30-4938-b94d-647cd22fd82b",
   "metadata": {
    "tags": []
   },
   "outputs": [],
   "source": [
    "from dotenv import load_dotenv\n",
    "import datetime\n",
    "import sys\n",
    "import pandas as pd\n",
    "from BlsGov import BlsGov\n",
    "from BlsGovGetSeriesDescription import BlsGovGetSeriesDescription"
   ]
  },
  {
   "cell_type": "code",
   "execution_count": 2,
   "id": "ad51a176-84f1-404f-a945-386f23555f81",
   "metadata": {
    "tags": []
   },
   "outputs": [],
   "source": [
    "today = datetime.date.today()\n",
    "year = today.year\n",
    "\n",
    "bls = BlsGov()\n",
    "#data = bls.get_data('CUSR0000SA0', str(today.year-19), str(today.year))"
   ]
  },
  {
   "cell_type": "code",
   "execution_count": 10,
   "id": "2b9ebd74-0696-4fd2-bed1-57a95d8b27a9",
   "metadata": {
    "tags": []
   },
   "outputs": [
    {
     "data": {
      "text/html": [
       "<div>\n",
       "<style scoped>\n",
       "    .dataframe tbody tr th:only-of-type {\n",
       "        vertical-align: middle;\n",
       "    }\n",
       "\n",
       "    .dataframe tbody tr th {\n",
       "        vertical-align: top;\n",
       "    }\n",
       "\n",
       "    .dataframe thead th {\n",
       "        text-align: right;\n",
       "    }\n",
       "</style>\n",
       "<table border=\"1\" class=\"dataframe\">\n",
       "  <thead>\n",
       "    <tr style=\"text-align: right;\">\n",
       "      <th></th>\n",
       "      <th>year</th>\n",
       "      <th>period</th>\n",
       "      <th>periodName</th>\n",
       "      <th>latest</th>\n",
       "      <th>value</th>\n",
       "      <th>footnotes</th>\n",
       "    </tr>\n",
       "  </thead>\n",
       "  <tbody>\n",
       "    <tr>\n",
       "      <th>0</th>\n",
       "      <td>2023</td>\n",
       "      <td>M09</td>\n",
       "      <td>September</td>\n",
       "      <td>true</td>\n",
       "      <td>307.481</td>\n",
       "      <td>[{}]</td>\n",
       "    </tr>\n",
       "    <tr>\n",
       "      <th>1</th>\n",
       "      <td>2023</td>\n",
       "      <td>M08</td>\n",
       "      <td>August</td>\n",
       "      <td>NaN</td>\n",
       "      <td>306.269</td>\n",
       "      <td>[{}]</td>\n",
       "    </tr>\n",
       "    <tr>\n",
       "      <th>2</th>\n",
       "      <td>2023</td>\n",
       "      <td>M07</td>\n",
       "      <td>July</td>\n",
       "      <td>NaN</td>\n",
       "      <td>304.348</td>\n",
       "      <td>[{}]</td>\n",
       "    </tr>\n",
       "    <tr>\n",
       "      <th>3</th>\n",
       "      <td>2023</td>\n",
       "      <td>M06</td>\n",
       "      <td>June</td>\n",
       "      <td>NaN</td>\n",
       "      <td>303.841</td>\n",
       "      <td>[{}]</td>\n",
       "    </tr>\n",
       "    <tr>\n",
       "      <th>4</th>\n",
       "      <td>2023</td>\n",
       "      <td>M05</td>\n",
       "      <td>May</td>\n",
       "      <td>NaN</td>\n",
       "      <td>303.294</td>\n",
       "      <td>[{}]</td>\n",
       "    </tr>\n",
       "  </tbody>\n",
       "</table>\n",
       "</div>"
      ],
      "text/plain": [
       "   year period periodName latest    value footnotes\n",
       "0  2023    M09  September   true  307.481      [{}]\n",
       "1  2023    M08     August    NaN  306.269      [{}]\n",
       "2  2023    M07       July    NaN  304.348      [{}]\n",
       "3  2023    M06       June    NaN  303.841      [{}]\n",
       "4  2023    M05        May    NaN  303.294      [{}]"
      ]
     },
     "execution_count": 10,
     "metadata": {},
     "output_type": "execute_result"
    }
   ],
   "source": [
    "df = bls.get_data_as_pandas_df('CUSR0000SA0', str(today.year-19), str(today.year))\n",
    "df.head()"
   ]
  },
  {
   "cell_type": "code",
   "execution_count": 13,
   "id": "69481a0e-de2d-421e-ac78-ff14777ba350",
   "metadata": {
    "tags": []
   },
   "outputs": [
    {
     "data": {
      "text/html": [
       "<div>\n",
       "<style scoped>\n",
       "    .dataframe tbody tr th:only-of-type {\n",
       "        vertical-align: middle;\n",
       "    }\n",
       "\n",
       "    .dataframe tbody tr th {\n",
       "        vertical-align: top;\n",
       "    }\n",
       "\n",
       "    .dataframe thead th {\n",
       "        text-align: right;\n",
       "    }\n",
       "</style>\n",
       "<table border=\"1\" class=\"dataframe\">\n",
       "  <thead>\n",
       "    <tr style=\"text-align: right;\">\n",
       "      <th></th>\n",
       "      <th>series_id</th>\n",
       "      <th>area_code</th>\n",
       "      <th>item_code</th>\n",
       "      <th>seasonal</th>\n",
       "      <th>periodicity_code</th>\n",
       "      <th>base_code</th>\n",
       "      <th>base_period</th>\n",
       "      <th>series_title</th>\n",
       "      <th>footnote_codes</th>\n",
       "      <th>begin_year</th>\n",
       "      <th>begin_period</th>\n",
       "      <th>end_year</th>\n",
       "      <th>end_period</th>\n",
       "    </tr>\n",
       "  </thead>\n",
       "  <tbody>\n",
       "    <tr>\n",
       "      <th>0</th>\n",
       "      <td>CUSR0000SA0</td>\n",
       "      <td>0000</td>\n",
       "      <td>SA0</td>\n",
       "      <td>S</td>\n",
       "      <td>R</td>\n",
       "      <td>S</td>\n",
       "      <td>1982-84=100</td>\n",
       "      <td>All items in U.S. city average, all urban cons...</td>\n",
       "      <td>NaN</td>\n",
       "      <td>1947</td>\n",
       "      <td>M01</td>\n",
       "      <td>2023</td>\n",
       "      <td>M09</td>\n",
       "    </tr>\n",
       "  </tbody>\n",
       "</table>\n",
       "</div>"
      ],
      "text/plain": [
       "     series_id area_code item_code seasonal periodicity_code base_code  \\\n",
       "0  CUSR0000SA0      0000       SA0        S                R         S   \n",
       "\n",
       "   base_period                                       series_title  \\\n",
       "0  1982-84=100  All items in U.S. city average, all urban cons...   \n",
       "\n",
       "   footnote_codes  begin_year begin_period  end_year end_period  \n",
       "0             NaN        1947          M01      2023        M09  "
      ]
     },
     "execution_count": 13,
     "metadata": {},
     "output_type": "execute_result"
    }
   ],
   "source": [
    "bls_description = BlsGovGetSeriesDescription('CUSR0000SA0')\n",
    "series_description = bls_description.get_series_description()\n",
    "series_description"
   ]
  },
  {
   "cell_type": "code",
   "execution_count": null,
   "id": "02a55c7e-fd6b-4296-988d-840c5a361a2c",
   "metadata": {},
   "outputs": [],
   "source": []
  }
 ],
 "metadata": {
  "kernelspec": {
   "display_name": "Python 3 (ipykernel)",
   "language": "python",
   "name": "python3"
  },
  "language_info": {
   "codemirror_mode": {
    "name": "ipython",
    "version": 3
   },
   "file_extension": ".py",
   "mimetype": "text/x-python",
   "name": "python",
   "nbconvert_exporter": "python",
   "pygments_lexer": "ipython3",
   "version": "3.11.4"
  }
 },
 "nbformat": 4,
 "nbformat_minor": 5
}
