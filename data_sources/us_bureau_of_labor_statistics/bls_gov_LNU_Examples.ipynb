{
 "cells": [
  {
   "cell_type": "markdown",
   "id": "79ce2bb7-9ddc-4483-ace8-8924a5ead0a2",
   "metadata": {},
   "source": [
    "# U.S. Bureau of Labor Statistics API - LNU Example"
   ]
  },
  {
   "cell_type": "code",
   "execution_count": 1,
   "id": "ac4240f1-d53e-481a-a273-d5cee8d0310f",
   "metadata": {},
   "outputs": [],
   "source": [
    "from dotenv import load_dotenv\n",
    "import datetime\n",
    "import sys\n",
    "import pandas as pd\n",
    "from bls_gov.BlsGov import BlsGov\n",
    "from bls_gov.BlsGovGetSeriesDescription import BlsGovGetSeriesDescription"
   ]
  },
  {
   "cell_type": "code",
   "execution_count": 2,
   "id": "36a40ab0-c435-487d-8e12-7f5490cc95bc",
   "metadata": {},
   "outputs": [],
   "source": [
    "today = datetime.date.today()\n",
    "year = today.year"
   ]
  },
  {
   "cell_type": "code",
   "execution_count": 3,
   "id": "f826bb92-2321-4044-99a6-c5807293deca",
   "metadata": {},
   "outputs": [],
   "source": [
    "bls_gov = BlsGov()"
   ]
  },
  {
   "cell_type": "code",
   "execution_count": 4,
   "id": "602fd0c8-4ce2-4438-8f02-59927bc6e840",
   "metadata": {},
   "outputs": [],
   "source": [
    "df = bls_gov.get_data_as_pandas_df('LNU02000000', '2010', '2019')"
   ]
  },
  {
   "cell_type": "code",
   "execution_count": 5,
   "id": "e6e194da-7dc5-4a09-b4b3-14709da510f0",
   "metadata": {},
   "outputs": [
    {
     "data": {
      "text/html": [
       "<div>\n",
       "<style scoped>\n",
       "    .dataframe tbody tr th:only-of-type {\n",
       "        vertical-align: middle;\n",
       "    }\n",
       "\n",
       "    .dataframe tbody tr th {\n",
       "        vertical-align: top;\n",
       "    }\n",
       "\n",
       "    .dataframe thead th {\n",
       "        text-align: right;\n",
       "    }\n",
       "</style>\n",
       "<table border=\"1\" class=\"dataframe\">\n",
       "  <thead>\n",
       "    <tr style=\"text-align: right;\">\n",
       "      <th></th>\n",
       "      <th>value</th>\n",
       "      <th>footnotes</th>\n",
       "      <th>date</th>\n",
       "    </tr>\n",
       "  </thead>\n",
       "  <tbody>\n",
       "    <tr>\n",
       "      <th>119</th>\n",
       "      <td>136809</td>\n",
       "      <td>[{'code': '1', 'text': 'Data affected by chang...</td>\n",
       "      <td>2010-01-01</td>\n",
       "    </tr>\n",
       "    <tr>\n",
       "      <th>118</th>\n",
       "      <td>137203</td>\n",
       "      <td>[{}]</td>\n",
       "      <td>2010-02-01</td>\n",
       "    </tr>\n",
       "    <tr>\n",
       "      <th>117</th>\n",
       "      <td>137983</td>\n",
       "      <td>[{}]</td>\n",
       "      <td>2010-03-01</td>\n",
       "    </tr>\n",
       "    <tr>\n",
       "      <th>116</th>\n",
       "      <td>139302</td>\n",
       "      <td>[{}]</td>\n",
       "      <td>2010-04-01</td>\n",
       "    </tr>\n",
       "    <tr>\n",
       "      <th>115</th>\n",
       "      <td>139497</td>\n",
       "      <td>[{}]</td>\n",
       "      <td>2010-05-01</td>\n",
       "    </tr>\n",
       "  </tbody>\n",
       "</table>\n",
       "</div>"
      ],
      "text/plain": [
       "      value                                          footnotes       date\n",
       "119  136809  [{'code': '1', 'text': 'Data affected by chang... 2010-01-01\n",
       "118  137203                                               [{}] 2010-02-01\n",
       "117  137983                                               [{}] 2010-03-01\n",
       "116  139302                                               [{}] 2010-04-01\n",
       "115  139497                                               [{}] 2010-05-01"
      ]
     },
     "execution_count": 5,
     "metadata": {},
     "output_type": "execute_result"
    }
   ],
   "source": [
    "df.head()"
   ]
  },
  {
   "cell_type": "code",
   "execution_count": 6,
   "id": "c9e5be23-be20-4eb2-80c1-a30a01a8d142",
   "metadata": {},
   "outputs": [
    {
     "name": "stdout",
     "output_type": "stream",
     "text": [
      "<class 'pandas.core.frame.DataFrame'>\n",
      "Index: 120 entries, 119 to 0\n",
      "Data columns (total 3 columns):\n",
      " #   Column     Non-Null Count  Dtype         \n",
      "---  ------     --------------  -----         \n",
      " 0   value      120 non-null    int64         \n",
      " 1   footnotes  120 non-null    object        \n",
      " 2   date       120 non-null    datetime64[ns]\n",
      "dtypes: datetime64[ns](1), int64(1), object(1)\n",
      "memory usage: 3.8+ KB\n"
     ]
    }
   ],
   "source": [
    "df.info()"
   ]
  },
  {
   "cell_type": "code",
   "execution_count": 7,
   "id": "d6c2fef9-49e1-4cb4-ad37-71ddd78b3a0f",
   "metadata": {},
   "outputs": [],
   "source": [
    "df['value'] = pd.to_numeric(df['value'])"
   ]
  },
  {
   "cell_type": "code",
   "execution_count": 8,
   "id": "60ec465f-8f5d-4717-b0b5-9e89db469915",
   "metadata": {},
   "outputs": [],
   "source": [
    "#df = df.rename(columns={\"periodName\": \"month\"})"
   ]
  },
  {
   "cell_type": "code",
   "execution_count": 9,
   "id": "ef2f85e2-c09e-4fe7-a8fa-a79b0a5fec0c",
   "metadata": {},
   "outputs": [],
   "source": [
    "#df['day'] = 1"
   ]
  },
  {
   "cell_type": "code",
   "execution_count": 10,
   "id": "37f222cd-5b74-47d7-a6b3-21b3ec94d172",
   "metadata": {},
   "outputs": [
    {
     "data": {
      "text/html": [
       "<div>\n",
       "<style scoped>\n",
       "    .dataframe tbody tr th:only-of-type {\n",
       "        vertical-align: middle;\n",
       "    }\n",
       "\n",
       "    .dataframe tbody tr th {\n",
       "        vertical-align: top;\n",
       "    }\n",
       "\n",
       "    .dataframe thead th {\n",
       "        text-align: right;\n",
       "    }\n",
       "</style>\n",
       "<table border=\"1\" class=\"dataframe\">\n",
       "  <thead>\n",
       "    <tr style=\"text-align: right;\">\n",
       "      <th></th>\n",
       "      <th>value</th>\n",
       "      <th>footnotes</th>\n",
       "      <th>date</th>\n",
       "    </tr>\n",
       "  </thead>\n",
       "  <tbody>\n",
       "    <tr>\n",
       "      <th>119</th>\n",
       "      <td>136809</td>\n",
       "      <td>[{'code': '1', 'text': 'Data affected by chang...</td>\n",
       "      <td>2010-01-01</td>\n",
       "    </tr>\n",
       "    <tr>\n",
       "      <th>118</th>\n",
       "      <td>137203</td>\n",
       "      <td>[{}]</td>\n",
       "      <td>2010-02-01</td>\n",
       "    </tr>\n",
       "    <tr>\n",
       "      <th>117</th>\n",
       "      <td>137983</td>\n",
       "      <td>[{}]</td>\n",
       "      <td>2010-03-01</td>\n",
       "    </tr>\n",
       "    <tr>\n",
       "      <th>116</th>\n",
       "      <td>139302</td>\n",
       "      <td>[{}]</td>\n",
       "      <td>2010-04-01</td>\n",
       "    </tr>\n",
       "    <tr>\n",
       "      <th>115</th>\n",
       "      <td>139497</td>\n",
       "      <td>[{}]</td>\n",
       "      <td>2010-05-01</td>\n",
       "    </tr>\n",
       "  </tbody>\n",
       "</table>\n",
       "</div>"
      ],
      "text/plain": [
       "      value                                          footnotes       date\n",
       "119  136809  [{'code': '1', 'text': 'Data affected by chang... 2010-01-01\n",
       "118  137203                                               [{}] 2010-02-01\n",
       "117  137983                                               [{}] 2010-03-01\n",
       "116  139302                                               [{}] 2010-04-01\n",
       "115  139497                                               [{}] 2010-05-01"
      ]
     },
     "execution_count": 10,
     "metadata": {},
     "output_type": "execute_result"
    }
   ],
   "source": [
    "df.head()"
   ]
  },
  {
   "cell_type": "code",
   "execution_count": 11,
   "id": "d26ba67d-b784-4f09-b70f-98afeceab4a3",
   "metadata": {},
   "outputs": [],
   "source": [
    "#df['merged'] = df['year'] + '-' + df['month'] + '-' + df['day'].astype(str)"
   ]
  },
  {
   "cell_type": "code",
   "execution_count": 12,
   "id": "bd6eeebe-bde4-43a6-9995-32d5d6bce08d",
   "metadata": {},
   "outputs": [],
   "source": [
    "#df.head()"
   ]
  },
  {
   "cell_type": "code",
   "execution_count": 14,
   "id": "9189332d-5956-4db2-ab39-6d2e81125e92",
   "metadata": {},
   "outputs": [],
   "source": [
    "df['date'] = pd.to_datetime(df['date'], format='%Y-%B-%d')"
   ]
  },
  {
   "cell_type": "code",
   "execution_count": 15,
   "id": "e587de15-ab01-4f90-9665-71194c524e4b",
   "metadata": {},
   "outputs": [
    {
     "data": {
      "text/html": [
       "<div>\n",
       "<style scoped>\n",
       "    .dataframe tbody tr th:only-of-type {\n",
       "        vertical-align: middle;\n",
       "    }\n",
       "\n",
       "    .dataframe tbody tr th {\n",
       "        vertical-align: top;\n",
       "    }\n",
       "\n",
       "    .dataframe thead th {\n",
       "        text-align: right;\n",
       "    }\n",
       "</style>\n",
       "<table border=\"1\" class=\"dataframe\">\n",
       "  <thead>\n",
       "    <tr style=\"text-align: right;\">\n",
       "      <th></th>\n",
       "      <th>value</th>\n",
       "      <th>footnotes</th>\n",
       "      <th>date</th>\n",
       "    </tr>\n",
       "  </thead>\n",
       "  <tbody>\n",
       "    <tr>\n",
       "      <th>119</th>\n",
       "      <td>136809</td>\n",
       "      <td>[{'code': '1', 'text': 'Data affected by chang...</td>\n",
       "      <td>2010-01-01</td>\n",
       "    </tr>\n",
       "    <tr>\n",
       "      <th>118</th>\n",
       "      <td>137203</td>\n",
       "      <td>[{}]</td>\n",
       "      <td>2010-02-01</td>\n",
       "    </tr>\n",
       "    <tr>\n",
       "      <th>117</th>\n",
       "      <td>137983</td>\n",
       "      <td>[{}]</td>\n",
       "      <td>2010-03-01</td>\n",
       "    </tr>\n",
       "    <tr>\n",
       "      <th>116</th>\n",
       "      <td>139302</td>\n",
       "      <td>[{}]</td>\n",
       "      <td>2010-04-01</td>\n",
       "    </tr>\n",
       "    <tr>\n",
       "      <th>115</th>\n",
       "      <td>139497</td>\n",
       "      <td>[{}]</td>\n",
       "      <td>2010-05-01</td>\n",
       "    </tr>\n",
       "  </tbody>\n",
       "</table>\n",
       "</div>"
      ],
      "text/plain": [
       "      value                                          footnotes       date\n",
       "119  136809  [{'code': '1', 'text': 'Data affected by chang... 2010-01-01\n",
       "118  137203                                               [{}] 2010-02-01\n",
       "117  137983                                               [{}] 2010-03-01\n",
       "116  139302                                               [{}] 2010-04-01\n",
       "115  139497                                               [{}] 2010-05-01"
      ]
     },
     "execution_count": 15,
     "metadata": {},
     "output_type": "execute_result"
    }
   ],
   "source": [
    "df.head()"
   ]
  },
  {
   "cell_type": "code",
   "execution_count": 16,
   "id": "d7b80440-100b-4014-ad7a-131cc6f2b048",
   "metadata": {},
   "outputs": [
    {
     "data": {
      "text/plain": [
       "<Axes: xlabel='date'>"
      ]
     },
     "execution_count": 16,
     "metadata": {},
     "output_type": "execute_result"
    },
    {
     "data": {
      "image/png": "[encoded data removed]",
      "text/plain": [
       "<Figure size 640x480 with 1 Axes>"
      ]
     },
     "metadata": {},
     "output_type": "display_data"
    }
   ],
   "source": [
    "df.plot(x=\"date\", y='value')"
   ]
  },
  {
   "cell_type": "code",
   "execution_count": 17,
   "id": "779d2f5f-6c40-4bed-a261-1e69f75ba051",
   "metadata": {},
   "outputs": [
    {
     "data": {
      "image/png": "[encoded data removed]",
      "text/plain": [
       "<Figure size 640x480 with 1 Axes>"
      ]
     },
     "metadata": {},
     "output_type": "display_data"
    },
    {
     "data": {
      "text/html": [
       "<div>\n",
       "<style scoped>\n",
       "    .dataframe tbody tr th:only-of-type {\n",
       "        vertical-align: middle;\n",
       "    }\n",
       "\n",
       "    .dataframe tbody tr th {\n",
       "        vertical-align: top;\n",
       "    }\n",
       "\n",
       "    .dataframe thead th {\n",
       "        text-align: right;\n",
       "    }\n",
       "</style>\n",
       "<table border=\"1\" class=\"dataframe\">\n",
       "  <thead>\n",
       "    <tr style=\"text-align: right;\">\n",
       "      <th></th>\n",
       "      <th>value</th>\n",
       "      <th>footnotes</th>\n",
       "      <th>date</th>\n",
       "    </tr>\n",
       "  </thead>\n",
       "  <tbody>\n",
       "    <tr>\n",
       "      <th>119</th>\n",
       "      <td>136809</td>\n",
       "      <td>[{'code': '1', 'text': 'Data affected by chang...</td>\n",
       "      <td>2010-01-01</td>\n",
       "    </tr>\n",
       "    <tr>\n",
       "      <th>118</th>\n",
       "      <td>137203</td>\n",
       "      <td>[{}]</td>\n",
       "      <td>2010-02-01</td>\n",
       "    </tr>\n",
       "    <tr>\n",
       "      <th>117</th>\n",
       "      <td>137983</td>\n",
       "      <td>[{}]</td>\n",
       "      <td>2010-03-01</td>\n",
       "    </tr>\n",
       "    <tr>\n",
       "      <th>116</th>\n",
       "      <td>139302</td>\n",
       "      <td>[{}]</td>\n",
       "      <td>2010-04-01</td>\n",
       "    </tr>\n",
       "    <tr>\n",
       "      <th>115</th>\n",
       "      <td>139497</td>\n",
       "      <td>[{}]</td>\n",
       "      <td>2010-05-01</td>\n",
       "    </tr>\n",
       "    <tr>\n",
       "      <th>...</th>\n",
       "      <td>...</td>\n",
       "      <td>...</td>\n",
       "      <td>...</td>\n",
       "    </tr>\n",
       "    <tr>\n",
       "      <th>4</th>\n",
       "      <td>157816</td>\n",
       "      <td>[{}]</td>\n",
       "      <td>2019-08-01</td>\n",
       "    </tr>\n",
       "    <tr>\n",
       "      <th>3</th>\n",
       "      <td>158478</td>\n",
       "      <td>[{}]</td>\n",
       "      <td>2019-09-01</td>\n",
       "    </tr>\n",
       "    <tr>\n",
       "      <th>2</th>\n",
       "      <td>159067</td>\n",
       "      <td>[{}]</td>\n",
       "      <td>2019-10-01</td>\n",
       "    </tr>\n",
       "    <tr>\n",
       "      <th>1</th>\n",
       "      <td>158945</td>\n",
       "      <td>[{}]</td>\n",
       "      <td>2019-11-01</td>\n",
       "    </tr>\n",
       "    <tr>\n",
       "      <th>0</th>\n",
       "      <td>158504</td>\n",
       "      <td>[{}]</td>\n",
       "      <td>2019-12-01</td>\n",
       "    </tr>\n",
       "  </tbody>\n",
       "</table>\n",
       "<p>120 rows × 3 columns</p>\n",
       "</div>"
      ],
      "text/plain": [
       "      value                                          footnotes       date\n",
       "119  136809  [{'code': '1', 'text': 'Data affected by chang... 2010-01-01\n",
       "118  137203                                               [{}] 2010-02-01\n",
       "117  137983                                               [{}] 2010-03-01\n",
       "116  139302                                               [{}] 2010-04-01\n",
       "115  139497                                               [{}] 2010-05-01\n",
       "..      ...                                                ...        ...\n",
       "4    157816                                               [{}] 2019-08-01\n",
       "3    158478                                               [{}] 2019-09-01\n",
       "2    159067                                               [{}] 2019-10-01\n",
       "1    158945                                               [{}] 2019-11-01\n",
       "0    158504                                               [{}] 2019-12-01\n",
       "\n",
       "[120 rows x 3 columns]"
      ]
     },
     "execution_count": 17,
     "metadata": {},
     "output_type": "execute_result"
    }
   ],
   "source": [
    "bls_gov.plot_series_id('LNU02000000', '2010', '2019')"
   ]
  },
  {
   "cell_type": "code",
   "execution_count": null,
   "id": "28fe6891-17ea-4ac7-97b2-b8a5709a8736",
   "metadata": {},
   "outputs": [],
   "source": []
  }
 ],
 "metadata": {
  "kernelspec": {
   "display_name": "Python 3 (ipykernel)",
   "language": "python",
   "name": "python3"
  },
  "language_info": {
   "codemirror_mode": {
    "name": "ipython",
    "version": 3
   },
   "file_extension": ".py",
   "mimetype": "text/x-python",
   "name": "python",
   "nbconvert_exporter": "python",
   "pygments_lexer": "ipython3",
   "version": "3.10.0"
  }
 },
 "nbformat": 4,
 "nbformat_minor": 5
}
