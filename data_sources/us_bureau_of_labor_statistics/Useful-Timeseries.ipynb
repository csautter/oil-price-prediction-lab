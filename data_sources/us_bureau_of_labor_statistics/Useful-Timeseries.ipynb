{
 "cells": [
  {
   "cell_type": "code",
   "execution_count": 1,
   "id": "7e23ddfa-6f30-4938-b94d-647cd22fd82b",
   "metadata": {
    "tags": []
   },
   "outputs": [],
   "source": [
    "from dotenv import load_dotenv\n",
    "import datetime\n",
    "import sys\n",
    "import pandas as pd\n",
    "from bls_gov.BlsGov import BlsGov\n",
    "from bls_gov.BlsGovGetSeriesDescription import BlsGovGetSeriesDescription"
   ]
  },
  {
   "cell_type": "code",
   "execution_count": 2,
   "id": "ad51a176-84f1-404f-a945-386f23555f81",
   "metadata": {
    "tags": []
   },
   "outputs": [],
   "source": [
    "today = datetime.date.today()\n",
    "year = today.year"
   ]
  },
  {
   "cell_type": "markdown",
   "id": "bff6aa74-6a34-4721-8a7e-6b2d72026397",
   "metadata": {
    "tags": []
   },
   "source": [
    "# Price Indexes"
   ]
  },
  {
   "cell_type": "markdown",
   "id": "a860ccde-bd68-435f-bfc3-ee7f4cf7ef5e",
   "metadata": {
    "tags": []
   },
   "source": [
    "## CPI for All Urban Consumers (CPI-U)"
   ]
  },
  {
   "cell_type": "code",
   "execution_count": 3,
   "id": "69481a0e-de2d-421e-ac78-ff14777ba350",
   "metadata": {
    "tags": []
   },
   "outputs": [],
   "source": [
    "bls_description = BlsGovGetSeriesDescription('CUUR0000SA0')"
   ]
  },
  {
   "cell_type": "code",
   "execution_count": 4,
   "id": "02a55c7e-fd6b-4296-988d-840c5a361a2c",
   "metadata": {},
   "outputs": [
    {
     "data": {
      "text/plain": [
       "'All items in U.S. city average, all urban consumers, not seasonally adjusted'"
      ]
     },
     "execution_count": 4,
     "metadata": {},
     "output_type": "execute_result"
    }
   ],
   "source": [
    "bls_description.get_series_title()"
   ]
  },
  {
   "cell_type": "code",
   "execution_count": 5,
   "id": "86ee12b7-4ce4-4695-b995-d720fb791d4d",
   "metadata": {
    "tags": []
   },
   "outputs": [
    {
     "data": {
      "text/html": [
       "<div>\n",
       "<style scoped>\n",
       "    .dataframe tbody tr th:only-of-type {\n",
       "        vertical-align: middle;\n",
       "    }\n",
       "\n",
       "    .dataframe tbody tr th {\n",
       "        vertical-align: top;\n",
       "    }\n",
       "\n",
       "    .dataframe thead th {\n",
       "        text-align: right;\n",
       "    }\n",
       "</style>\n",
       "<table border=\"1\" class=\"dataframe\">\n",
       "  <thead>\n",
       "    <tr style=\"text-align: right;\">\n",
       "      <th></th>\n",
       "      <th>series_id</th>\n",
       "      <th>area_code</th>\n",
       "      <th>item_code</th>\n",
       "      <th>seasonal</th>\n",
       "      <th>periodicity_code</th>\n",
       "      <th>base_code</th>\n",
       "      <th>base_period</th>\n",
       "      <th>series_title</th>\n",
       "      <th>footnote_codes</th>\n",
       "      <th>begin_year</th>\n",
       "      <th>begin_period</th>\n",
       "      <th>end_year</th>\n",
       "      <th>end_period</th>\n",
       "    </tr>\n",
       "  </thead>\n",
       "  <tbody>\n",
       "    <tr>\n",
       "      <th>323</th>\n",
       "      <td>CUUR0000SA0</td>\n",
       "      <td>0000</td>\n",
       "      <td>SA0</td>\n",
       "      <td>U</td>\n",
       "      <td>R</td>\n",
       "      <td>S</td>\n",
       "      <td>1982-84=100</td>\n",
       "      <td>All items in U.S. city average, all urban cons...</td>\n",
       "      <td>NaN</td>\n",
       "      <td>1913</td>\n",
       "      <td>M01</td>\n",
       "      <td>2023</td>\n",
       "      <td>M09</td>\n",
       "    </tr>\n",
       "  </tbody>\n",
       "</table>\n",
       "</div>"
      ],
      "text/plain": [
       "       series_id area_code item_code seasonal periodicity_code base_code  \\\n",
       "323  CUUR0000SA0      0000       SA0        U                R         S   \n",
       "\n",
       "     base_period                                       series_title  \\\n",
       "323  1982-84=100  All items in U.S. city average, all urban cons...   \n",
       "\n",
       "     footnote_codes  begin_year begin_period  end_year end_period  \n",
       "323             NaN        1913          M01      2023        M09  "
      ]
     },
     "execution_count": 5,
     "metadata": {},
     "output_type": "execute_result"
    }
   ],
   "source": [
    "bls_description.get_series_description()"
   ]
  },
  {
   "cell_type": "markdown",
   "id": "feb98f9a-cabe-4af0-bbfd-566bcbe8b247",
   "metadata": {},
   "source": [
    "## PPI Final Demand (Unadjusted)"
   ]
  },
  {
   "cell_type": "code",
   "execution_count": 6,
   "id": "a0a60914-b96d-49b8-88fe-5e1acd85ff28",
   "metadata": {
    "tags": []
   },
   "outputs": [],
   "source": [
    "bls_description = BlsGovGetSeriesDescription('WPUFD4')"
   ]
  },
  {
   "cell_type": "code",
   "execution_count": 7,
   "id": "89adc702-206e-42d9-94cc-c4630623d348",
   "metadata": {
    "tags": []
   },
   "outputs": [
    {
     "data": {
      "text/plain": [
       "'PPI Commodity data for Final demand, not seasonally adjusted'"
      ]
     },
     "execution_count": 7,
     "metadata": {},
     "output_type": "execute_result"
    }
   ],
   "source": [
    "bls_description.get_series_title()"
   ]
  },
  {
   "cell_type": "code",
   "execution_count": 8,
   "id": "c2d4b907-5ddd-4d70-be92-34fad94a643f",
   "metadata": {
    "tags": []
   },
   "outputs": [
    {
     "data": {
      "text/html": [
       "<div>\n",
       "<style scoped>\n",
       "    .dataframe tbody tr th:only-of-type {\n",
       "        vertical-align: middle;\n",
       "    }\n",
       "\n",
       "    .dataframe tbody tr th {\n",
       "        vertical-align: top;\n",
       "    }\n",
       "\n",
       "    .dataframe thead th {\n",
       "        text-align: right;\n",
       "    }\n",
       "</style>\n",
       "<table border=\"1\" class=\"dataframe\">\n",
       "  <thead>\n",
       "    <tr style=\"text-align: right;\">\n",
       "      <th></th>\n",
       "      <th>series_id</th>\n",
       "      <th>group_code</th>\n",
       "      <th>item_code</th>\n",
       "      <th>seasonal</th>\n",
       "      <th>base_date</th>\n",
       "      <th>series_title</th>\n",
       "      <th>footnote_codes</th>\n",
       "      <th>begin_year</th>\n",
       "      <th>begin_period</th>\n",
       "      <th>end_year</th>\n",
       "      <th>end_period</th>\n",
       "    </tr>\n",
       "  </thead>\n",
       "  <tbody>\n",
       "    <tr>\n",
       "      <th>4973</th>\n",
       "      <td>WPUFD4</td>\n",
       "      <td>FD</td>\n",
       "      <td>4</td>\n",
       "      <td>U</td>\n",
       "      <td>200911</td>\n",
       "      <td>PPI Commodity data for Final demand, not seaso...</td>\n",
       "      <td>NaN</td>\n",
       "      <td>2009</td>\n",
       "      <td>M11</td>\n",
       "      <td>2023</td>\n",
       "      <td>M09</td>\n",
       "    </tr>\n",
       "  </tbody>\n",
       "</table>\n",
       "</div>"
      ],
      "text/plain": [
       "     series_id group_code item_code seasonal  base_date  \\\n",
       "4973    WPUFD4         FD         4        U     200911   \n",
       "\n",
       "                                           series_title  footnote_codes  \\\n",
       "4973  PPI Commodity data for Final demand, not seaso...             NaN   \n",
       "\n",
       "      begin_year begin_period  end_year end_period  \n",
       "4973        2009          M11      2023        M09  "
      ]
     },
     "execution_count": 8,
     "metadata": {},
     "output_type": "execute_result"
    }
   ],
   "source": [
    "bls_description.get_series_description()"
   ]
  },
  {
   "cell_type": "code",
   "execution_count": 9,
   "id": "83f4dbda-844b-4dde-981e-1d8e43f02165",
   "metadata": {
    "tags": []
   },
   "outputs": [],
   "source": [
    "bls_description = BlsGovGetSeriesDescription('WPUFD49104')"
   ]
  },
  {
   "cell_type": "code",
   "execution_count": 10,
   "id": "a67277bb-c0c0-4d20-8e98-2bd198681b49",
   "metadata": {
    "tags": []
   },
   "outputs": [
    {
     "data": {
      "text/plain": [
       "'PPI Commodity data for Final demand less foods and energy, not seasonally adjusted'"
      ]
     },
     "execution_count": 10,
     "metadata": {},
     "output_type": "execute_result"
    }
   ],
   "source": [
    "bls_description.get_series_title()"
   ]
  },
  {
   "cell_type": "code",
   "execution_count": 11,
   "id": "95649ad3-a0e9-4719-9985-44f344fe5a00",
   "metadata": {
    "tags": []
   },
   "outputs": [
    {
     "data": {
      "text/html": [
       "<div>\n",
       "<style scoped>\n",
       "    .dataframe tbody tr th:only-of-type {\n",
       "        vertical-align: middle;\n",
       "    }\n",
       "\n",
       "    .dataframe tbody tr th {\n",
       "        vertical-align: top;\n",
       "    }\n",
       "\n",
       "    .dataframe thead th {\n",
       "        text-align: right;\n",
       "    }\n",
       "</style>\n",
       "<table border=\"1\" class=\"dataframe\">\n",
       "  <thead>\n",
       "    <tr style=\"text-align: right;\">\n",
       "      <th></th>\n",
       "      <th>series_id</th>\n",
       "      <th>group_code</th>\n",
       "      <th>item_code</th>\n",
       "      <th>seasonal</th>\n",
       "      <th>base_date</th>\n",
       "      <th>series_title</th>\n",
       "      <th>footnote_codes</th>\n",
       "      <th>begin_year</th>\n",
       "      <th>begin_period</th>\n",
       "      <th>end_year</th>\n",
       "      <th>end_period</th>\n",
       "    </tr>\n",
       "  </thead>\n",
       "  <tbody>\n",
       "    <tr>\n",
       "      <th>5031</th>\n",
       "      <td>WPUFD49104</td>\n",
       "      <td>FD</td>\n",
       "      <td>49104</td>\n",
       "      <td>U</td>\n",
       "      <td>201004</td>\n",
       "      <td>PPI Commodity data for Final demand less foods...</td>\n",
       "      <td>NaN</td>\n",
       "      <td>2010</td>\n",
       "      <td>M04</td>\n",
       "      <td>2023</td>\n",
       "      <td>M09</td>\n",
       "    </tr>\n",
       "  </tbody>\n",
       "</table>\n",
       "</div>"
      ],
      "text/plain": [
       "       series_id group_code item_code seasonal  base_date  \\\n",
       "5031  WPUFD49104         FD     49104        U     201004   \n",
       "\n",
       "                                           series_title  footnote_codes  \\\n",
       "5031  PPI Commodity data for Final demand less foods...             NaN   \n",
       "\n",
       "      begin_year begin_period  end_year end_period  \n",
       "5031        2010          M04      2023        M09  "
      ]
     },
     "execution_count": 11,
     "metadata": {},
     "output_type": "execute_result"
    }
   ],
   "source": [
    "bls_description.get_series_description()"
   ]
  },
  {
   "cell_type": "code",
   "execution_count": 12,
   "id": "962beb1b-6381-4003-9d41-cb3a36c25635",
   "metadata": {
    "tags": []
   },
   "outputs": [],
   "source": [
    "bls_description = BlsGovGetSeriesDescription('WPUFD49116')"
   ]
  },
  {
   "cell_type": "code",
   "execution_count": 13,
   "id": "140ed2d7-4fd6-490d-b9b5-5ce2218af82d",
   "metadata": {
    "tags": []
   },
   "outputs": [
    {
     "data": {
      "text/plain": [
       "'PPI Commodity data for Final demand less foods, energy, and trade services, not seasonally adjusted'"
      ]
     },
     "execution_count": 13,
     "metadata": {},
     "output_type": "execute_result"
    }
   ],
   "source": [
    "bls_description.get_series_title()"
   ]
  },
  {
   "cell_type": "code",
   "execution_count": 14,
   "id": "73cafc50-fe3b-47d9-adb5-0014434bb04d",
   "metadata": {
    "tags": []
   },
   "outputs": [
    {
     "data": {
      "text/html": [
       "<div>\n",
       "<style scoped>\n",
       "    .dataframe tbody tr th:only-of-type {\n",
       "        vertical-align: middle;\n",
       "    }\n",
       "\n",
       "    .dataframe tbody tr th {\n",
       "        vertical-align: top;\n",
       "    }\n",
       "\n",
       "    .dataframe thead th {\n",
       "        text-align: right;\n",
       "    }\n",
       "</style>\n",
       "<table border=\"1\" class=\"dataframe\">\n",
       "  <thead>\n",
       "    <tr style=\"text-align: right;\">\n",
       "      <th></th>\n",
       "      <th>series_id</th>\n",
       "      <th>group_code</th>\n",
       "      <th>item_code</th>\n",
       "      <th>seasonal</th>\n",
       "      <th>base_date</th>\n",
       "      <th>series_title</th>\n",
       "      <th>footnote_codes</th>\n",
       "      <th>begin_year</th>\n",
       "      <th>begin_period</th>\n",
       "      <th>end_year</th>\n",
       "      <th>end_period</th>\n",
       "    </tr>\n",
       "  </thead>\n",
       "  <tbody>\n",
       "    <tr>\n",
       "      <th>5042</th>\n",
       "      <td>WPUFD49116</td>\n",
       "      <td>FD</td>\n",
       "      <td>49116</td>\n",
       "      <td>U</td>\n",
       "      <td>201308</td>\n",
       "      <td>PPI Commodity data for Final demand less foods...</td>\n",
       "      <td>NaN</td>\n",
       "      <td>2013</td>\n",
       "      <td>M08</td>\n",
       "      <td>2023</td>\n",
       "      <td>M09</td>\n",
       "    </tr>\n",
       "  </tbody>\n",
       "</table>\n",
       "</div>"
      ],
      "text/plain": [
       "       series_id group_code item_code seasonal  base_date  \\\n",
       "5042  WPUFD49116         FD     49116        U     201308   \n",
       "\n",
       "                                           series_title  footnote_codes  \\\n",
       "5042  PPI Commodity data for Final demand less foods...             NaN   \n",
       "\n",
       "      begin_year begin_period  end_year end_period  \n",
       "5042        2013          M08      2023        M09  "
      ]
     },
     "execution_count": 14,
     "metadata": {},
     "output_type": "execute_result"
    }
   ],
   "source": [
    "bls_description.get_series_description()"
   ]
  },
  {
   "cell_type": "code",
   "execution_count": 15,
   "id": "87fd9ce1-31eb-451b-915e-76705320c971",
   "metadata": {
    "tags": []
   },
   "outputs": [],
   "source": [
    "bls_description = BlsGovGetSeriesDescription('WPUFD49207')"
   ]
  },
  {
   "cell_type": "code",
   "execution_count": 16,
   "id": "35dc3d40-42f1-4565-8e73-afc262c5ee4b",
   "metadata": {
    "tags": []
   },
   "outputs": [
    {
     "data": {
      "text/plain": [
       "'PPI Commodity data for Final demand-Finished goods, not seasonally adjusted'"
      ]
     },
     "execution_count": 16,
     "metadata": {},
     "output_type": "execute_result"
    }
   ],
   "source": [
    "bls_description.get_series_title()"
   ]
  },
  {
   "cell_type": "code",
   "execution_count": 17,
   "id": "8f56e0aa-0195-4d0e-9615-e30bd6b2ae48",
   "metadata": {
    "tags": []
   },
   "outputs": [
    {
     "data": {
      "text/html": [
       "<div>\n",
       "<style scoped>\n",
       "    .dataframe tbody tr th:only-of-type {\n",
       "        vertical-align: middle;\n",
       "    }\n",
       "\n",
       "    .dataframe tbody tr th {\n",
       "        vertical-align: top;\n",
       "    }\n",
       "\n",
       "    .dataframe thead th {\n",
       "        text-align: right;\n",
       "    }\n",
       "</style>\n",
       "<table border=\"1\" class=\"dataframe\">\n",
       "  <thead>\n",
       "    <tr style=\"text-align: right;\">\n",
       "      <th></th>\n",
       "      <th>series_id</th>\n",
       "      <th>group_code</th>\n",
       "      <th>item_code</th>\n",
       "      <th>seasonal</th>\n",
       "      <th>base_date</th>\n",
       "      <th>series_title</th>\n",
       "      <th>footnote_codes</th>\n",
       "      <th>begin_year</th>\n",
       "      <th>begin_period</th>\n",
       "      <th>end_year</th>\n",
       "      <th>end_period</th>\n",
       "    </tr>\n",
       "  </thead>\n",
       "  <tbody>\n",
       "    <tr>\n",
       "      <th>5052</th>\n",
       "      <td>WPUFD49207</td>\n",
       "      <td>FD</td>\n",
       "      <td>49207</td>\n",
       "      <td>U</td>\n",
       "      <td>198200</td>\n",
       "      <td>PPI Commodity data for Final demand-Finished g...</td>\n",
       "      <td>NaN</td>\n",
       "      <td>1947</td>\n",
       "      <td>M01</td>\n",
       "      <td>2023</td>\n",
       "      <td>M09</td>\n",
       "    </tr>\n",
       "  </tbody>\n",
       "</table>\n",
       "</div>"
      ],
      "text/plain": [
       "       series_id group_code item_code seasonal  base_date  \\\n",
       "5052  WPUFD49207         FD     49207        U     198200   \n",
       "\n",
       "                                           series_title  footnote_codes  \\\n",
       "5052  PPI Commodity data for Final demand-Finished g...             NaN   \n",
       "\n",
       "      begin_year begin_period  end_year end_period  \n",
       "5052        1947          M01      2023        M09  "
      ]
     },
     "execution_count": 17,
     "metadata": {},
     "output_type": "execute_result"
    }
   ],
   "source": [
    "bls_description.get_series_description()"
   ]
  },
  {
   "cell_type": "markdown",
   "id": "b0ef6377-bfa0-4def-af3c-c6d6143c4962",
   "metadata": {
    "tags": []
   },
   "source": [
    "## Producer Price Index Oil"
   ]
  },
  {
   "cell_type": "code",
   "execution_count": 43,
   "id": "b211684b-6358-4542-8973-217777c13c2b",
   "metadata": {
    "tags": []
   },
   "outputs": [
    {
     "data": {
      "text/plain": [
       "'https://beta.bls.gov/dataViewer/view/timeseries/PCU333132333132'"
      ]
     },
     "execution_count": 43,
     "metadata": {},
     "output_type": "execute_result"
    }
   ],
   "source": [
    "bls_description = BlsGovGetSeriesDescription('PCU333132333132')\n",
    "bls_description.get_link_to_timeseries_viewer()"
   ]
  },
  {
   "cell_type": "code",
   "execution_count": 44,
   "id": "51134325-b16e-4626-a4b9-ec5e71c5e530",
   "metadata": {
    "tags": []
   },
   "outputs": [
    {
     "data": {
      "text/plain": [
       "'PPI industry data for Oil and gas field machinery and equipment mfg, not seasonally adjusted'"
      ]
     },
     "execution_count": 44,
     "metadata": {},
     "output_type": "execute_result"
    }
   ],
   "source": [
    "bls_description.get_series_title()"
   ]
  },
  {
   "cell_type": "code",
   "execution_count": 45,
   "id": "a0bd5942-f110-4ae8-bcf1-0a4d81989325",
   "metadata": {
    "tags": []
   },
   "outputs": [
    {
     "data": {
      "text/html": [
       "<div>\n",
       "<style scoped>\n",
       "    .dataframe tbody tr th:only-of-type {\n",
       "        vertical-align: middle;\n",
       "    }\n",
       "\n",
       "    .dataframe tbody tr th {\n",
       "        vertical-align: top;\n",
       "    }\n",
       "\n",
       "    .dataframe thead th {\n",
       "        text-align: right;\n",
       "    }\n",
       "</style>\n",
       "<table border=\"1\" class=\"dataframe\">\n",
       "  <thead>\n",
       "    <tr style=\"text-align: right;\">\n",
       "      <th></th>\n",
       "      <th>series_id</th>\n",
       "      <th>industry_code</th>\n",
       "      <th>product_code</th>\n",
       "      <th>seasonal</th>\n",
       "      <th>base_date</th>\n",
       "      <th>series_title</th>\n",
       "      <th>footnote_codes</th>\n",
       "      <th>begin_year</th>\n",
       "      <th>begin_period</th>\n",
       "      <th>end_year</th>\n",
       "      <th>end_period</th>\n",
       "    </tr>\n",
       "  </thead>\n",
       "  <tbody>\n",
       "    <tr>\n",
       "      <th>2456</th>\n",
       "      <td>PCU333132333132</td>\n",
       "      <td>333132</td>\n",
       "      <td>333132</td>\n",
       "      <td>U</td>\n",
       "      <td>198012</td>\n",
       "      <td>PPI industry data for Oil and gas field machin...</td>\n",
       "      <td>NaN</td>\n",
       "      <td>1965</td>\n",
       "      <td>M01</td>\n",
       "      <td>2023</td>\n",
       "      <td>M09</td>\n",
       "    </tr>\n",
       "  </tbody>\n",
       "</table>\n",
       "</div>"
      ],
      "text/plain": [
       "            series_id industry_code product_code seasonal  base_date  \\\n",
       "2456  PCU333132333132        333132       333132        U     198012   \n",
       "\n",
       "                                           series_title  footnote_codes  \\\n",
       "2456  PPI industry data for Oil and gas field machin...             NaN   \n",
       "\n",
       "      begin_year begin_period  end_year end_period  \n",
       "2456        1965          M01      2023        M09  "
      ]
     },
     "execution_count": 45,
     "metadata": {},
     "output_type": "execute_result"
    }
   ],
   "source": [
    "bls_description.get_series_description()"
   ]
  },
  {
   "cell_type": "code",
   "execution_count": 50,
   "id": "e32ca2bd-0cf7-4afb-a807-861064cea210",
   "metadata": {
    "tags": []
   },
   "outputs": [
    {
     "data": {
      "text/plain": [
       "'https://beta.bls.gov/dataViewer/view/timeseries/WPU114119153'"
      ]
     },
     "execution_count": 50,
     "metadata": {},
     "output_type": "execute_result"
    }
   ],
   "source": [
    "bls_description = BlsGovGetSeriesDescription('WPU114119153')\n",
    "bls_description.get_link_to_timeseries_viewer()"
   ]
  },
  {
   "cell_type": "code",
   "execution_count": 51,
   "id": "d6f885b4-6195-468e-8b17-a3424ab639f5",
   "metadata": {
    "tags": []
   },
   "outputs": [
    {
     "data": {
      "text/plain": [
       "'PPI Commodity data for Machinery and equipment-Oil-well and oil-field pumps, not seasonally adjusted'"
      ]
     },
     "execution_count": 51,
     "metadata": {},
     "output_type": "execute_result"
    }
   ],
   "source": [
    "bls_description.get_series_title()"
   ]
  },
  {
   "cell_type": "code",
   "execution_count": 52,
   "id": "95bc88db-5a31-493f-8f6e-dfb484ed264e",
   "metadata": {
    "tags": []
   },
   "outputs": [
    {
     "data": {
      "text/html": [
       "<div>\n",
       "<style scoped>\n",
       "    .dataframe tbody tr th:only-of-type {\n",
       "        vertical-align: middle;\n",
       "    }\n",
       "\n",
       "    .dataframe tbody tr th {\n",
       "        vertical-align: top;\n",
       "    }\n",
       "\n",
       "    .dataframe thead th {\n",
       "        text-align: right;\n",
       "    }\n",
       "</style>\n",
       "<table border=\"1\" class=\"dataframe\">\n",
       "  <thead>\n",
       "    <tr style=\"text-align: right;\">\n",
       "      <th></th>\n",
       "      <th>series_id</th>\n",
       "      <th>group_code</th>\n",
       "      <th>item_code</th>\n",
       "      <th>seasonal</th>\n",
       "      <th>base_date</th>\n",
       "      <th>series_title</th>\n",
       "      <th>footnote_codes</th>\n",
       "      <th>begin_year</th>\n",
       "      <th>begin_period</th>\n",
       "      <th>end_year</th>\n",
       "      <th>end_period</th>\n",
       "    </tr>\n",
       "  </thead>\n",
       "  <tbody>\n",
       "    <tr>\n",
       "      <th>3286</th>\n",
       "      <td>WPU114119153</td>\n",
       "      <td>11</td>\n",
       "      <td>4119153</td>\n",
       "      <td>U</td>\n",
       "      <td>200912</td>\n",
       "      <td>PPI Commodity data for Machinery and equipment...</td>\n",
       "      <td>NaN</td>\n",
       "      <td>2009</td>\n",
       "      <td>M12</td>\n",
       "      <td>2023</td>\n",
       "      <td>M09</td>\n",
       "    </tr>\n",
       "  </tbody>\n",
       "</table>\n",
       "</div>"
      ],
      "text/plain": [
       "         series_id group_code item_code seasonal  base_date  \\\n",
       "3286  WPU114119153         11   4119153        U     200912   \n",
       "\n",
       "                                           series_title  footnote_codes  \\\n",
       "3286  PPI Commodity data for Machinery and equipment...             NaN   \n",
       "\n",
       "      begin_year begin_period  end_year end_period  \n",
       "3286        2009          M12      2023        M09  "
      ]
     },
     "execution_count": 52,
     "metadata": {},
     "output_type": "execute_result"
    }
   ],
   "source": [
    "bls_description.get_series_description()"
   ]
  },
  {
   "cell_type": "code",
   "execution_count": 53,
   "id": "4ffc2ac0-9cb0-400f-befb-e5dc0ed55b23",
   "metadata": {
    "tags": []
   },
   "outputs": [
    {
     "data": {
      "text/plain": [
       "'https://beta.bls.gov/dataViewer/view/timeseries/PCU21311121311105'"
      ]
     },
     "execution_count": 53,
     "metadata": {},
     "output_type": "execute_result"
    }
   ],
   "source": [
    "bls_description = BlsGovGetSeriesDescription('PCU21311121311105')\n",
    "bls_description.get_link_to_timeseries_viewer()"
   ]
  },
  {
   "cell_type": "code",
   "execution_count": 54,
   "id": "61f65d64-80f8-429b-839e-24c7ab977691",
   "metadata": {
    "tags": []
   },
   "outputs": [
    {
     "data": {
      "text/plain": [
       "'PPI industry data for Drilling oil and gas wells-Reworking oil and gas wells, not seasonally adjusted'"
      ]
     },
     "execution_count": 54,
     "metadata": {},
     "output_type": "execute_result"
    }
   ],
   "source": [
    "bls_description.get_series_title()"
   ]
  },
  {
   "cell_type": "code",
   "execution_count": 55,
   "id": "4531d6a3-6250-4599-8368-afc0082bd197",
   "metadata": {
    "tags": []
   },
   "outputs": [
    {
     "data": {
      "text/html": [
       "<div>\n",
       "<style scoped>\n",
       "    .dataframe tbody tr th:only-of-type {\n",
       "        vertical-align: middle;\n",
       "    }\n",
       "\n",
       "    .dataframe tbody tr th {\n",
       "        vertical-align: top;\n",
       "    }\n",
       "\n",
       "    .dataframe thead th {\n",
       "        text-align: right;\n",
       "    }\n",
       "</style>\n",
       "<table border=\"1\" class=\"dataframe\">\n",
       "  <thead>\n",
       "    <tr style=\"text-align: right;\">\n",
       "      <th></th>\n",
       "      <th>series_id</th>\n",
       "      <th>industry_code</th>\n",
       "      <th>product_code</th>\n",
       "      <th>seasonal</th>\n",
       "      <th>base_date</th>\n",
       "      <th>series_title</th>\n",
       "      <th>footnote_codes</th>\n",
       "      <th>begin_year</th>\n",
       "      <th>begin_period</th>\n",
       "      <th>end_year</th>\n",
       "      <th>end_period</th>\n",
       "    </tr>\n",
       "  </thead>\n",
       "  <tbody>\n",
       "    <tr>\n",
       "      <th>98</th>\n",
       "      <td>PCU21311121311105</td>\n",
       "      <td>213111</td>\n",
       "      <td>21311105</td>\n",
       "      <td>U</td>\n",
       "      <td>199212</td>\n",
       "      <td>PPI industry data for Drilling oil and gas wel...</td>\n",
       "      <td>NaN</td>\n",
       "      <td>1992</td>\n",
       "      <td>M12</td>\n",
       "      <td>2023</td>\n",
       "      <td>M09</td>\n",
       "    </tr>\n",
       "  </tbody>\n",
       "</table>\n",
       "</div>"
      ],
      "text/plain": [
       "            series_id industry_code product_code seasonal  base_date  \\\n",
       "98  PCU21311121311105        213111     21311105        U     199212   \n",
       "\n",
       "                                         series_title  footnote_codes  \\\n",
       "98  PPI industry data for Drilling oil and gas wel...             NaN   \n",
       "\n",
       "    begin_year begin_period  end_year end_period  \n",
       "98        1992          M12      2023        M09  "
      ]
     },
     "execution_count": 55,
     "metadata": {},
     "output_type": "execute_result"
    }
   ],
   "source": [
    "bls_description.get_series_description()"
   ]
  },
  {
   "cell_type": "code",
   "execution_count": 56,
   "id": "594ea39b-64d3-49e2-b778-71acc37b5d6f",
   "metadata": {
    "tags": []
   },
   "outputs": [
    {
     "data": {
      "text/plain": [
       "'https://beta.bls.gov/dataViewer/view/timeseries/PCU333914333914113'"
      ]
     },
     "execution_count": 56,
     "metadata": {},
     "output_type": "execute_result"
    }
   ],
   "source": [
    "bls_description = BlsGovGetSeriesDescription('PCU333914333914113')\n",
    "bls_description.get_link_to_timeseries_viewer()"
   ]
  },
  {
   "cell_type": "code",
   "execution_count": 57,
   "id": "a3846680-23e9-4010-af2f-e341339fe5aa",
   "metadata": {
    "tags": []
   },
   "outputs": [
    {
     "data": {
      "text/plain": [
       "'PPI industry data for Measuring, dispensing, and other pumping equipment mfg-Oil-well and oil-field pumps, except boiler feed, not seasonally adjusted'"
      ]
     },
     "execution_count": 57,
     "metadata": {},
     "output_type": "execute_result"
    }
   ],
   "source": [
    "bls_description.get_series_title()"
   ]
  },
  {
   "cell_type": "code",
   "execution_count": 58,
   "id": "a6d25086-cec5-4edf-bc0c-16edb542e066",
   "metadata": {
    "tags": []
   },
   "outputs": [
    {
     "data": {
      "text/html": [
       "<div>\n",
       "<style scoped>\n",
       "    .dataframe tbody tr th:only-of-type {\n",
       "        vertical-align: middle;\n",
       "    }\n",
       "\n",
       "    .dataframe tbody tr th {\n",
       "        vertical-align: top;\n",
       "    }\n",
       "\n",
       "    .dataframe thead th {\n",
       "        text-align: right;\n",
       "    }\n",
       "</style>\n",
       "<table border=\"1\" class=\"dataframe\">\n",
       "  <thead>\n",
       "    <tr style=\"text-align: right;\">\n",
       "      <th></th>\n",
       "      <th>series_id</th>\n",
       "      <th>industry_code</th>\n",
       "      <th>product_code</th>\n",
       "      <th>seasonal</th>\n",
       "      <th>base_date</th>\n",
       "      <th>series_title</th>\n",
       "      <th>footnote_codes</th>\n",
       "      <th>begin_year</th>\n",
       "      <th>begin_period</th>\n",
       "      <th>end_year</th>\n",
       "      <th>end_period</th>\n",
       "    </tr>\n",
       "  </thead>\n",
       "  <tbody>\n",
       "    <tr>\n",
       "      <th>2675</th>\n",
       "      <td>PCU333914333914113</td>\n",
       "      <td>333914</td>\n",
       "      <td>333914113</td>\n",
       "      <td>U</td>\n",
       "      <td>200912</td>\n",
       "      <td>PPI industry data for Measuring, dispensing, a...</td>\n",
       "      <td>NaN</td>\n",
       "      <td>2009</td>\n",
       "      <td>M12</td>\n",
       "      <td>2023</td>\n",
       "      <td>M09</td>\n",
       "    </tr>\n",
       "  </tbody>\n",
       "</table>\n",
       "</div>"
      ],
      "text/plain": [
       "               series_id industry_code product_code seasonal  base_date  \\\n",
       "2675  PCU333914333914113        333914    333914113        U     200912   \n",
       "\n",
       "                                           series_title  footnote_codes  \\\n",
       "2675  PPI industry data for Measuring, dispensing, a...             NaN   \n",
       "\n",
       "      begin_year begin_period  end_year end_period  \n",
       "2675        2009          M12      2023        M09  "
      ]
     },
     "execution_count": 58,
     "metadata": {},
     "output_type": "execute_result"
    }
   ],
   "source": [
    "bls_description.get_series_description()"
   ]
  },
  {
   "cell_type": "code",
   "execution_count": 59,
   "id": "7015f187-bbb4-48b4-98fb-86b3be3a0548",
   "metadata": {
    "tags": []
   },
   "outputs": [
    {
     "data": {
      "text/plain": [
       "'https://beta.bls.gov/dataViewer/view/timeseries/PCU2111--2111--'"
      ]
     },
     "execution_count": 59,
     "metadata": {},
     "output_type": "execute_result"
    }
   ],
   "source": [
    "bls_description = BlsGovGetSeriesDescription('PCU2111--2111--')\n",
    "bls_description.get_link_to_timeseries_viewer()"
   ]
  },
  {
   "cell_type": "code",
   "execution_count": 60,
   "id": "5aa6b949-d2df-48fa-9a5c-7aff9a82567c",
   "metadata": {
    "tags": []
   },
   "outputs": [
    {
     "data": {
      "text/plain": [
       "'PPI industry group data for Oil and gas extraction, not seasonally adjusted'"
      ]
     },
     "execution_count": 60,
     "metadata": {},
     "output_type": "execute_result"
    }
   ],
   "source": [
    "bls_description.get_series_title()"
   ]
  },
  {
   "cell_type": "code",
   "execution_count": 61,
   "id": "a0f95d6c-6901-4ce1-a956-336d76b4a595",
   "metadata": {
    "tags": []
   },
   "outputs": [
    {
     "data": {
      "text/html": [
       "<div>\n",
       "<style scoped>\n",
       "    .dataframe tbody tr th:only-of-type {\n",
       "        vertical-align: middle;\n",
       "    }\n",
       "\n",
       "    .dataframe tbody tr th {\n",
       "        vertical-align: top;\n",
       "    }\n",
       "\n",
       "    .dataframe thead th {\n",
       "        text-align: right;\n",
       "    }\n",
       "</style>\n",
       "<table border=\"1\" class=\"dataframe\">\n",
       "  <thead>\n",
       "    <tr style=\"text-align: right;\">\n",
       "      <th></th>\n",
       "      <th>series_id</th>\n",
       "      <th>industry_code</th>\n",
       "      <th>product_code</th>\n",
       "      <th>seasonal</th>\n",
       "      <th>base_date</th>\n",
       "      <th>series_title</th>\n",
       "      <th>footnote_codes</th>\n",
       "      <th>begin_year</th>\n",
       "      <th>begin_period</th>\n",
       "      <th>end_year</th>\n",
       "      <th>end_period</th>\n",
       "    </tr>\n",
       "  </thead>\n",
       "  <tbody>\n",
       "    <tr>\n",
       "      <th>7</th>\n",
       "      <td>PCU2111--2111--</td>\n",
       "      <td>2111--</td>\n",
       "      <td>2111--</td>\n",
       "      <td>U</td>\n",
       "      <td>198512</td>\n",
       "      <td>PPI industry group data for Oil and gas extrac...</td>\n",
       "      <td>NaN</td>\n",
       "      <td>1985</td>\n",
       "      <td>M12</td>\n",
       "      <td>2023</td>\n",
       "      <td>M09</td>\n",
       "    </tr>\n",
       "  </tbody>\n",
       "</table>\n",
       "</div>"
      ],
      "text/plain": [
       "         series_id industry_code product_code seasonal  base_date  \\\n",
       "7  PCU2111--2111--        2111--       2111--        U     198512   \n",
       "\n",
       "                                        series_title  footnote_codes  \\\n",
       "7  PPI industry group data for Oil and gas extrac...             NaN   \n",
       "\n",
       "   begin_year begin_period  end_year end_period  \n",
       "7        1985          M12      2023        M09  "
      ]
     },
     "execution_count": 61,
     "metadata": {},
     "output_type": "execute_result"
    }
   ],
   "source": [
    "bls_description.get_series_description()"
   ]
  },
  {
   "cell_type": "code",
   "execution_count": 62,
   "id": "a2201eb2-128e-4ec7-9532-3454c690ff0d",
   "metadata": {
    "tags": []
   },
   "outputs": [
    {
     "data": {
      "text/plain": [
       "'https://beta.bls.gov/dataViewer/view/timeseries/PCU2111--2111--'"
      ]
     },
     "execution_count": 62,
     "metadata": {},
     "output_type": "execute_result"
    }
   ],
   "source": [
    "bls_description = BlsGovGetSeriesDescription('PCU2111--2111--')\n",
    "bls_description.get_link_to_timeseries_viewer()"
   ]
  },
  {
   "cell_type": "code",
   "execution_count": 63,
   "id": "166a740c-a596-4b14-a993-c4dc00158299",
   "metadata": {
    "tags": []
   },
   "outputs": [
    {
     "data": {
      "text/plain": [
       "'PPI industry group data for Oil and gas extraction, not seasonally adjusted'"
      ]
     },
     "execution_count": 63,
     "metadata": {},
     "output_type": "execute_result"
    }
   ],
   "source": [
    "bls_description.get_series_title()"
   ]
  },
  {
   "cell_type": "code",
   "execution_count": 64,
   "id": "4d183a9b-fd58-4d5a-aaec-241c6b16fc09",
   "metadata": {
    "tags": []
   },
   "outputs": [
    {
     "data": {
      "text/html": [
       "<div>\n",
       "<style scoped>\n",
       "    .dataframe tbody tr th:only-of-type {\n",
       "        vertical-align: middle;\n",
       "    }\n",
       "\n",
       "    .dataframe tbody tr th {\n",
       "        vertical-align: top;\n",
       "    }\n",
       "\n",
       "    .dataframe thead th {\n",
       "        text-align: right;\n",
       "    }\n",
       "</style>\n",
       "<table border=\"1\" class=\"dataframe\">\n",
       "  <thead>\n",
       "    <tr style=\"text-align: right;\">\n",
       "      <th></th>\n",
       "      <th>series_id</th>\n",
       "      <th>industry_code</th>\n",
       "      <th>product_code</th>\n",
       "      <th>seasonal</th>\n",
       "      <th>base_date</th>\n",
       "      <th>series_title</th>\n",
       "      <th>footnote_codes</th>\n",
       "      <th>begin_year</th>\n",
       "      <th>begin_period</th>\n",
       "      <th>end_year</th>\n",
       "      <th>end_period</th>\n",
       "    </tr>\n",
       "  </thead>\n",
       "  <tbody>\n",
       "    <tr>\n",
       "      <th>7</th>\n",
       "      <td>PCU2111--2111--</td>\n",
       "      <td>2111--</td>\n",
       "      <td>2111--</td>\n",
       "      <td>U</td>\n",
       "      <td>198512</td>\n",
       "      <td>PPI industry group data for Oil and gas extrac...</td>\n",
       "      <td>NaN</td>\n",
       "      <td>1985</td>\n",
       "      <td>M12</td>\n",
       "      <td>2023</td>\n",
       "      <td>M09</td>\n",
       "    </tr>\n",
       "  </tbody>\n",
       "</table>\n",
       "</div>"
      ],
      "text/plain": [
       "         series_id industry_code product_code seasonal  base_date  \\\n",
       "7  PCU2111--2111--        2111--       2111--        U     198512   \n",
       "\n",
       "                                        series_title  footnote_codes  \\\n",
       "7  PPI industry group data for Oil and gas extrac...             NaN   \n",
       "\n",
       "   begin_year begin_period  end_year end_period  \n",
       "7        1985          M12      2023        M09  "
      ]
     },
     "execution_count": 64,
     "metadata": {},
     "output_type": "execute_result"
    }
   ],
   "source": [
    "bls_description.get_series_description()"
   ]
  },
  {
   "cell_type": "code",
   "execution_count": 65,
   "id": "aae4d893-0d62-487f-b174-231dd05fc065",
   "metadata": {
    "tags": []
   },
   "outputs": [
    {
     "data": {
      "text/plain": [
       "'https://beta.bls.gov/dataViewer/view/timeseries/PCU211---211---'"
      ]
     },
     "execution_count": 65,
     "metadata": {},
     "output_type": "execute_result"
    }
   ],
   "source": [
    "bls_description = BlsGovGetSeriesDescription('PCU211---211---')\n",
    "bls_description.get_link_to_timeseries_viewer()"
   ]
  },
  {
   "cell_type": "code",
   "execution_count": 67,
   "id": "a7c504ab-10b8-45c7-93a1-4f44b670dc78",
   "metadata": {
    "tags": []
   },
   "outputs": [
    {
     "data": {
      "text/plain": [
       "'PPI industry sub-sector data for Oil and gas extraction, not seasonally adjusted'"
      ]
     },
     "execution_count": 67,
     "metadata": {},
     "output_type": "execute_result"
    }
   ],
   "source": [
    "bls_description.get_series_title()"
   ]
  },
  {
   "cell_type": "code",
   "execution_count": 66,
   "id": "072fcac3-917f-4d73-9aaa-234083e3cbc3",
   "metadata": {
    "tags": []
   },
   "outputs": [
    {
     "data": {
      "text/html": [
       "<div>\n",
       "<style scoped>\n",
       "    .dataframe tbody tr th:only-of-type {\n",
       "        vertical-align: middle;\n",
       "    }\n",
       "\n",
       "    .dataframe tbody tr th {\n",
       "        vertical-align: top;\n",
       "    }\n",
       "\n",
       "    .dataframe thead th {\n",
       "        text-align: right;\n",
       "    }\n",
       "</style>\n",
       "<table border=\"1\" class=\"dataframe\">\n",
       "  <thead>\n",
       "    <tr style=\"text-align: right;\">\n",
       "      <th></th>\n",
       "      <th>series_id</th>\n",
       "      <th>industry_code</th>\n",
       "      <th>product_code</th>\n",
       "      <th>seasonal</th>\n",
       "      <th>base_date</th>\n",
       "      <th>series_title</th>\n",
       "      <th>footnote_codes</th>\n",
       "      <th>begin_year</th>\n",
       "      <th>begin_period</th>\n",
       "      <th>end_year</th>\n",
       "      <th>end_period</th>\n",
       "    </tr>\n",
       "  </thead>\n",
       "  <tbody>\n",
       "    <tr>\n",
       "      <th>6</th>\n",
       "      <td>PCU211---211---</td>\n",
       "      <td>211---</td>\n",
       "      <td>211---</td>\n",
       "      <td>U</td>\n",
       "      <td>198512</td>\n",
       "      <td>PPI industry sub-sector data for Oil and gas e...</td>\n",
       "      <td>NaN</td>\n",
       "      <td>1985</td>\n",
       "      <td>M12</td>\n",
       "      <td>2023</td>\n",
       "      <td>M09</td>\n",
       "    </tr>\n",
       "  </tbody>\n",
       "</table>\n",
       "</div>"
      ],
      "text/plain": [
       "         series_id industry_code product_code seasonal  base_date  \\\n",
       "6  PCU211---211---        211---       211---        U     198512   \n",
       "\n",
       "                                        series_title  footnote_codes  \\\n",
       "6  PPI industry sub-sector data for Oil and gas e...             NaN   \n",
       "\n",
       "   begin_year begin_period  end_year end_period  \n",
       "6        1985          M12      2023        M09  "
      ]
     },
     "execution_count": 66,
     "metadata": {},
     "output_type": "execute_result"
    }
   ],
   "source": [
    "bls_description.get_series_description()"
   ]
  },
  {
   "cell_type": "code",
   "execution_count": 68,
   "id": "4ddbeaef-263b-4245-8ea8-a633a9ca6fb2",
   "metadata": {
    "tags": []
   },
   "outputs": [
    {
     "data": {
      "text/plain": [
       "'https://beta.bls.gov/dataViewer/view/timeseries/PCU212---212---'"
      ]
     },
     "execution_count": 68,
     "metadata": {},
     "output_type": "execute_result"
    }
   ],
   "source": [
    "bls_description = BlsGovGetSeriesDescription('PCU212---212---')\n",
    "bls_description.get_link_to_timeseries_viewer()"
   ]
  },
  {
   "cell_type": "code",
   "execution_count": 69,
   "id": "b11164c4-714d-473b-ac93-d50e743bc5ca",
   "metadata": {
    "tags": []
   },
   "outputs": [
    {
     "data": {
      "text/plain": [
       "'PPI industry sub-sector data for Mining (except oil & gas), not seasonally adjusted'"
      ]
     },
     "execution_count": 69,
     "metadata": {},
     "output_type": "execute_result"
    }
   ],
   "source": [
    "bls_description.get_series_title()"
   ]
  },
  {
   "cell_type": "code",
   "execution_count": 70,
   "id": "ff1f05ee-b5d2-4ccc-b1ef-548eb73a1249",
   "metadata": {
    "tags": []
   },
   "outputs": [
    {
     "data": {
      "text/html": [
       "<div>\n",
       "<style scoped>\n",
       "    .dataframe tbody tr th:only-of-type {\n",
       "        vertical-align: middle;\n",
       "    }\n",
       "\n",
       "    .dataframe tbody tr th {\n",
       "        vertical-align: top;\n",
       "    }\n",
       "\n",
       "    .dataframe thead th {\n",
       "        text-align: right;\n",
       "    }\n",
       "</style>\n",
       "<table border=\"1\" class=\"dataframe\">\n",
       "  <thead>\n",
       "    <tr style=\"text-align: right;\">\n",
       "      <th></th>\n",
       "      <th>series_id</th>\n",
       "      <th>industry_code</th>\n",
       "      <th>product_code</th>\n",
       "      <th>seasonal</th>\n",
       "      <th>base_date</th>\n",
       "      <th>series_title</th>\n",
       "      <th>footnote_codes</th>\n",
       "      <th>begin_year</th>\n",
       "      <th>begin_period</th>\n",
       "      <th>end_year</th>\n",
       "      <th>end_period</th>\n",
       "    </tr>\n",
       "  </thead>\n",
       "  <tbody>\n",
       "    <tr>\n",
       "      <th>20</th>\n",
       "      <td>PCU212---212---</td>\n",
       "      <td>212---</td>\n",
       "      <td>212---</td>\n",
       "      <td>U</td>\n",
       "      <td>200312</td>\n",
       "      <td>PPI industry sub-sector data for Mining (excep...</td>\n",
       "      <td>NaN</td>\n",
       "      <td>2003</td>\n",
       "      <td>M12</td>\n",
       "      <td>2023</td>\n",
       "      <td>M09</td>\n",
       "    </tr>\n",
       "  </tbody>\n",
       "</table>\n",
       "</div>"
      ],
      "text/plain": [
       "          series_id industry_code product_code seasonal  base_date  \\\n",
       "20  PCU212---212---        212---       212---        U     200312   \n",
       "\n",
       "                                         series_title  footnote_codes  \\\n",
       "20  PPI industry sub-sector data for Mining (excep...             NaN   \n",
       "\n",
       "    begin_year begin_period  end_year end_period  \n",
       "20        2003          M12      2023        M09  "
      ]
     },
     "execution_count": 70,
     "metadata": {},
     "output_type": "execute_result"
    }
   ],
   "source": [
    "bls_description.get_series_description()"
   ]
  },
  {
   "cell_type": "markdown",
   "id": "a2e09072-a431-49e4-ad6d-702dfe167af8",
   "metadata": {
    "tags": []
   },
   "source": [
    "## Costumer Price Index Fuel oil"
   ]
  },
  {
   "cell_type": "code",
   "execution_count": 47,
   "id": "3b50a56e-e0fb-4bd1-a07a-67be2b72fef8",
   "metadata": {
    "tags": []
   },
   "outputs": [
    {
     "data": {
      "text/plain": [
       "'https://beta.bls.gov/dataViewer/view/timeseries/APU000072511'"
      ]
     },
     "execution_count": 47,
     "metadata": {},
     "output_type": "execute_result"
    }
   ],
   "source": [
    "bls_description = BlsGovGetSeriesDescription('APU000072511')\n",
    "bls_description.get_link_to_timeseries_viewer()"
   ]
  },
  {
   "cell_type": "code",
   "execution_count": 48,
   "id": "2052f45a-e78a-4282-b06f-6eb9bba62c78",
   "metadata": {
    "tags": []
   },
   "outputs": [
    {
     "data": {
      "text/plain": [
       "'Fuel oil #2 per gallon (3.785 liters) in U.S. city average, average price, not seasonally adjusted'"
      ]
     },
     "execution_count": 48,
     "metadata": {},
     "output_type": "execute_result"
    }
   ],
   "source": [
    "bls_description.get_series_title()"
   ]
  },
  {
   "cell_type": "code",
   "execution_count": 49,
   "id": "33419bb7-7f20-4cee-bc24-fdb87a457235",
   "metadata": {
    "tags": []
   },
   "outputs": [
    {
     "data": {
      "text/html": [
       "<div>\n",
       "<style scoped>\n",
       "    .dataframe tbody tr th:only-of-type {\n",
       "        vertical-align: middle;\n",
       "    }\n",
       "\n",
       "    .dataframe tbody tr th {\n",
       "        vertical-align: top;\n",
       "    }\n",
       "\n",
       "    .dataframe thead th {\n",
       "        text-align: right;\n",
       "    }\n",
       "</style>\n",
       "<table border=\"1\" class=\"dataframe\">\n",
       "  <thead>\n",
       "    <tr style=\"text-align: right;\">\n",
       "      <th></th>\n",
       "      <th>series_id</th>\n",
       "      <th>area_code</th>\n",
       "      <th>item_code</th>\n",
       "      <th>series_title</th>\n",
       "      <th>footnote_codes</th>\n",
       "      <th>begin_year</th>\n",
       "      <th>begin_period</th>\n",
       "      <th>end_year</th>\n",
       "      <th>end_period</th>\n",
       "    </tr>\n",
       "  </thead>\n",
       "  <tbody>\n",
       "    <tr>\n",
       "      <th>133</th>\n",
       "      <td>APU000072511</td>\n",
       "      <td>0000</td>\n",
       "      <td>72511</td>\n",
       "      <td>Fuel oil #2 per gallon (3.785 liters) in U.S. ...</td>\n",
       "      <td>NaN</td>\n",
       "      <td>1978</td>\n",
       "      <td>M11</td>\n",
       "      <td>2023</td>\n",
       "      <td>M09</td>\n",
       "    </tr>\n",
       "  </tbody>\n",
       "</table>\n",
       "</div>"
      ],
      "text/plain": [
       "        series_id area_code item_code  \\\n",
       "133  APU000072511      0000     72511   \n",
       "\n",
       "                                          series_title  footnote_codes  \\\n",
       "133  Fuel oil #2 per gallon (3.785 liters) in U.S. ...             NaN   \n",
       "\n",
       "     begin_year begin_period  end_year end_period  \n",
       "133        1978          M11      2023        M09  "
      ]
     },
     "execution_count": 49,
     "metadata": {},
     "output_type": "execute_result"
    }
   ],
   "source": [
    "bls_description.get_series_description()"
   ]
  },
  {
   "cell_type": "markdown",
   "id": "4a77ff50-ff54-4871-ae5a-54a7d902a39f",
   "metadata": {
    "tags": []
   },
   "source": [
    "## Imports"
   ]
  },
  {
   "cell_type": "code",
   "execution_count": 18,
   "id": "e32d3342-3df7-4507-9e19-763dc9fb7607",
   "metadata": {
    "tags": []
   },
   "outputs": [],
   "source": [
    "bls_description = BlsGovGetSeriesDescription('EIUIR')"
   ]
  },
  {
   "cell_type": "code",
   "execution_count": 19,
   "id": "334f0396-3eab-4703-9681-48efec90ef69",
   "metadata": {
    "tags": []
   },
   "outputs": [
    {
     "data": {
      "text/plain": [
       "'Monthly import price index for BEA End Use, All commodities, not seasonally adjusted'"
      ]
     },
     "execution_count": 19,
     "metadata": {},
     "output_type": "execute_result"
    }
   ],
   "source": [
    "bls_description.get_series_title()"
   ]
  },
  {
   "cell_type": "code",
   "execution_count": 20,
   "id": "6e7505ca-66a3-41e4-878a-033ef0b06250",
   "metadata": {
    "tags": []
   },
   "outputs": [
    {
     "data": {
      "text/html": [
       "<div>\n",
       "<style scoped>\n",
       "    .dataframe tbody tr th:only-of-type {\n",
       "        vertical-align: middle;\n",
       "    }\n",
       "\n",
       "    .dataframe tbody tr th {\n",
       "        vertical-align: top;\n",
       "    }\n",
       "\n",
       "    .dataframe thead th {\n",
       "        text-align: right;\n",
       "    }\n",
       "</style>\n",
       "<table border=\"1\" class=\"dataframe\">\n",
       "  <thead>\n",
       "    <tr style=\"text-align: right;\">\n",
       "      <th></th>\n",
       "      <th>series_id</th>\n",
       "      <th>seasonal</th>\n",
       "      <th>index_code</th>\n",
       "      <th>series_name</th>\n",
       "      <th>base_period</th>\n",
       "      <th>series_title</th>\n",
       "      <th>footnote_codes</th>\n",
       "      <th>begin_year</th>\n",
       "      <th>begin_period</th>\n",
       "      <th>end_year</th>\n",
       "      <th>end_period</th>\n",
       "    </tr>\n",
       "  </thead>\n",
       "  <tbody>\n",
       "    <tr>\n",
       "      <th>584</th>\n",
       "      <td>EIUIR</td>\n",
       "      <td>U</td>\n",
       "      <td>IR</td>\n",
       "      <td>All commodities</td>\n",
       "      <td>2000=100</td>\n",
       "      <td>Monthly import price index for BEA End Use, Al...</td>\n",
       "      <td>NaN</td>\n",
       "      <td>1982</td>\n",
       "      <td>M09</td>\n",
       "      <td>2023</td>\n",
       "      <td>M09</td>\n",
       "    </tr>\n",
       "  </tbody>\n",
       "</table>\n",
       "</div>"
      ],
      "text/plain": [
       "    series_id seasonal index_code      series_name base_period  \\\n",
       "584     EIUIR        U         IR  All commodities    2000=100   \n",
       "\n",
       "                                          series_title  footnote_codes  \\\n",
       "584  Monthly import price index for BEA End Use, Al...             NaN   \n",
       "\n",
       "     begin_year begin_period  end_year end_period  \n",
       "584        1982          M09      2023        M09  "
      ]
     },
     "execution_count": 20,
     "metadata": {},
     "output_type": "execute_result"
    }
   ],
   "source": [
    "bls_description.get_series_description()"
   ]
  },
  {
   "cell_type": "markdown",
   "id": "08696007-4250-4ae5-97bf-2e0479b3696d",
   "metadata": {
    "tags": []
   },
   "source": [
    "## Exports"
   ]
  },
  {
   "cell_type": "code",
   "execution_count": 21,
   "id": "ec7b15d4-1e13-4850-ab8e-a09388fefcb5",
   "metadata": {
    "tags": []
   },
   "outputs": [],
   "source": [
    "bls_description = BlsGovGetSeriesDescription('EIUIQ')"
   ]
  },
  {
   "cell_type": "code",
   "execution_count": 22,
   "id": "4fdbe845-5f44-421a-bdd0-4ee4556af181",
   "metadata": {
    "tags": []
   },
   "outputs": [
    {
     "data": {
      "text/plain": [
       "'Monthly export price index for BEA End Use, All commodities, not seasonally adjusted'"
      ]
     },
     "execution_count": 22,
     "metadata": {},
     "output_type": "execute_result"
    }
   ],
   "source": [
    "bls_description.get_series_title()"
   ]
  },
  {
   "cell_type": "code",
   "execution_count": 23,
   "id": "adde22d6-bc0d-4567-94f8-64cccadd2209",
   "metadata": {
    "tags": []
   },
   "outputs": [
    {
     "data": {
      "text/html": [
       "<div>\n",
       "<style scoped>\n",
       "    .dataframe tbody tr th:only-of-type {\n",
       "        vertical-align: middle;\n",
       "    }\n",
       "\n",
       "    .dataframe tbody tr th {\n",
       "        vertical-align: top;\n",
       "    }\n",
       "\n",
       "    .dataframe thead th {\n",
       "        text-align: right;\n",
       "    }\n",
       "</style>\n",
       "<table border=\"1\" class=\"dataframe\">\n",
       "  <thead>\n",
       "    <tr style=\"text-align: right;\">\n",
       "      <th></th>\n",
       "      <th>series_id</th>\n",
       "      <th>seasonal</th>\n",
       "      <th>index_code</th>\n",
       "      <th>series_name</th>\n",
       "      <th>base_period</th>\n",
       "      <th>series_title</th>\n",
       "      <th>footnote_codes</th>\n",
       "      <th>begin_year</th>\n",
       "      <th>begin_period</th>\n",
       "      <th>end_year</th>\n",
       "      <th>end_period</th>\n",
       "    </tr>\n",
       "  </thead>\n",
       "  <tbody>\n",
       "    <tr>\n",
       "      <th>478</th>\n",
       "      <td>EIUIQ</td>\n",
       "      <td>U</td>\n",
       "      <td>IQ</td>\n",
       "      <td>All commodities</td>\n",
       "      <td>2000=100</td>\n",
       "      <td>Monthly export price index for BEA End Use, Al...</td>\n",
       "      <td>NaN</td>\n",
       "      <td>1983</td>\n",
       "      <td>M09</td>\n",
       "      <td>2023</td>\n",
       "      <td>M09</td>\n",
       "    </tr>\n",
       "  </tbody>\n",
       "</table>\n",
       "</div>"
      ],
      "text/plain": [
       "    series_id seasonal index_code      series_name base_period  \\\n",
       "478     EIUIQ        U         IQ  All commodities    2000=100   \n",
       "\n",
       "                                          series_title  footnote_codes  \\\n",
       "478  Monthly export price index for BEA End Use, Al...             NaN   \n",
       "\n",
       "     begin_year begin_period  end_year end_period  \n",
       "478        1983          M09      2023        M09  "
      ]
     },
     "execution_count": 23,
     "metadata": {},
     "output_type": "execute_result"
    }
   ],
   "source": [
    "bls_description.get_series_description()"
   ]
  },
  {
   "cell_type": "markdown",
   "id": "36f71512-4894-4d7c-879e-1470eb0cd922",
   "metadata": {
    "tags": []
   },
   "source": [
    "# Compensation"
   ]
  },
  {
   "cell_type": "code",
   "execution_count": 24,
   "id": "c0bde357-0ed7-4955-8f85-756caee7b454",
   "metadata": {
    "tags": []
   },
   "outputs": [],
   "source": [
    "bls_description = BlsGovGetSeriesDescription('CIU1010000000000I')"
   ]
  },
  {
   "cell_type": "code",
   "execution_count": 25,
   "id": "355d8681-41d8-4266-9bd2-74377162a0e2",
   "metadata": {
    "tags": []
   },
   "outputs": [
    {
     "data": {
      "text/plain": [
       "'Total compensation for All Civilian workers in All industries and occupations, Index'"
      ]
     },
     "execution_count": 25,
     "metadata": {},
     "output_type": "execute_result"
    }
   ],
   "source": [
    "bls_description.get_series_title()"
   ]
  },
  {
   "cell_type": "code",
   "execution_count": 26,
   "id": "408446e4-ee10-43c9-8528-6a05851757bc",
   "metadata": {
    "tags": []
   },
   "outputs": [
    {
     "data": {
      "text/html": [
       "<div>\n",
       "<style scoped>\n",
       "    .dataframe tbody tr th:only-of-type {\n",
       "        vertical-align: middle;\n",
       "    }\n",
       "\n",
       "    .dataframe tbody tr th {\n",
       "        vertical-align: top;\n",
       "    }\n",
       "\n",
       "    .dataframe thead th {\n",
       "        text-align: right;\n",
       "    }\n",
       "</style>\n",
       "<table border=\"1\" class=\"dataframe\">\n",
       "  <thead>\n",
       "    <tr style=\"text-align: right;\">\n",
       "      <th></th>\n",
       "      <th>series_id</th>\n",
       "      <th>seasonal</th>\n",
       "      <th>owner_code</th>\n",
       "      <th>industry_code</th>\n",
       "      <th>occupation_code</th>\n",
       "      <th>subcell_code</th>\n",
       "      <th>area_code</th>\n",
       "      <th>periodicity_code</th>\n",
       "      <th>estimate_code</th>\n",
       "      <th>series_title</th>\n",
       "      <th>footnote_codes</th>\n",
       "      <th>begin_year</th>\n",
       "      <th>begin_period</th>\n",
       "      <th>end_year</th>\n",
       "      <th>end_period</th>\n",
       "    </tr>\n",
       "  </thead>\n",
       "  <tbody>\n",
       "    <tr>\n",
       "      <th>301</th>\n",
       "      <td>CIU1010000000000I</td>\n",
       "      <td>U</td>\n",
       "      <td>1</td>\n",
       "      <td>000000</td>\n",
       "      <td>000000</td>\n",
       "      <td>0</td>\n",
       "      <td>99999</td>\n",
       "      <td>I</td>\n",
       "      <td>1</td>\n",
       "      <td>Total compensation for All Civilian workers in...</td>\n",
       "      <td>B,C</td>\n",
       "      <td>2001</td>\n",
       "      <td>Q01</td>\n",
       "      <td>2023</td>\n",
       "      <td>Q03</td>\n",
       "    </tr>\n",
       "  </tbody>\n",
       "</table>\n",
       "</div>"
      ],
      "text/plain": [
       "             series_id seasonal  owner_code industry_code occupation_code  \\\n",
       "301  CIU1010000000000I        U           1        000000          000000   \n",
       "\n",
       "     subcell_code  area_code periodicity_code  estimate_code  \\\n",
       "301             0      99999                I              1   \n",
       "\n",
       "                                          series_title footnote_codes  \\\n",
       "301  Total compensation for All Civilian workers in...            B,C   \n",
       "\n",
       "     begin_year begin_period  end_year end_period  \n",
       "301        2001          Q01      2023        Q03  "
      ]
     },
     "execution_count": 26,
     "metadata": {},
     "output_type": "execute_result"
    }
   ],
   "source": [
    "bls_description.get_series_description()"
   ]
  },
  {
   "cell_type": "code",
   "execution_count": 27,
   "id": "fbb119ba-ab25-481a-9d91-f329c662fd91",
   "metadata": {
    "tags": []
   },
   "outputs": [],
   "source": [
    "bls_description = BlsGovGetSeriesDescription('CIU2020000000000I')"
   ]
  },
  {
   "cell_type": "code",
   "execution_count": 28,
   "id": "3f1240ff-61f5-4ffb-bd7c-a37225b694ca",
   "metadata": {
    "tags": []
   },
   "outputs": [
    {
     "data": {
      "text/plain": [
       "'Wages and salaries for Private industry workers in All industries and occupations, Index'"
      ]
     },
     "execution_count": 28,
     "metadata": {},
     "output_type": "execute_result"
    }
   ],
   "source": [
    "bls_description.get_series_title()"
   ]
  },
  {
   "cell_type": "code",
   "execution_count": 29,
   "id": "5bdd50f6-b05c-43c1-8078-bffdd1ac7453",
   "metadata": {
    "tags": []
   },
   "outputs": [
    {
     "data": {
      "text/html": [
       "<div>\n",
       "<style scoped>\n",
       "    .dataframe tbody tr th:only-of-type {\n",
       "        vertical-align: middle;\n",
       "    }\n",
       "\n",
       "    .dataframe tbody tr th {\n",
       "        vertical-align: top;\n",
       "    }\n",
       "\n",
       "    .dataframe thead th {\n",
       "        text-align: right;\n",
       "    }\n",
       "</style>\n",
       "<table border=\"1\" class=\"dataframe\">\n",
       "  <thead>\n",
       "    <tr style=\"text-align: right;\">\n",
       "      <th></th>\n",
       "      <th>series_id</th>\n",
       "      <th>seasonal</th>\n",
       "      <th>owner_code</th>\n",
       "      <th>industry_code</th>\n",
       "      <th>occupation_code</th>\n",
       "      <th>subcell_code</th>\n",
       "      <th>area_code</th>\n",
       "      <th>periodicity_code</th>\n",
       "      <th>estimate_code</th>\n",
       "      <th>series_title</th>\n",
       "      <th>footnote_codes</th>\n",
       "      <th>begin_year</th>\n",
       "      <th>begin_period</th>\n",
       "      <th>end_year</th>\n",
       "      <th>end_period</th>\n",
       "    </tr>\n",
       "  </thead>\n",
       "  <tbody>\n",
       "    <tr>\n",
       "      <th>1435</th>\n",
       "      <td>CIU2020000000000I</td>\n",
       "      <td>U</td>\n",
       "      <td>2</td>\n",
       "      <td>000000</td>\n",
       "      <td>000000</td>\n",
       "      <td>0</td>\n",
       "      <td>99999</td>\n",
       "      <td>I</td>\n",
       "      <td>2</td>\n",
       "      <td>Wages and salaries for Private industry worker...</td>\n",
       "      <td>NaN</td>\n",
       "      <td>2001</td>\n",
       "      <td>Q01</td>\n",
       "      <td>2023</td>\n",
       "      <td>Q03</td>\n",
       "    </tr>\n",
       "  </tbody>\n",
       "</table>\n",
       "</div>"
      ],
      "text/plain": [
       "              series_id seasonal  owner_code industry_code occupation_code  \\\n",
       "1435  CIU2020000000000I        U           2        000000          000000   \n",
       "\n",
       "      subcell_code  area_code periodicity_code  estimate_code  \\\n",
       "1435             0      99999                I              2   \n",
       "\n",
       "                                           series_title footnote_codes  \\\n",
       "1435  Wages and salaries for Private industry worker...            NaN   \n",
       "\n",
       "      begin_year begin_period  end_year end_period  \n",
       "1435        2001          Q01      2023        Q03  "
      ]
     },
     "execution_count": 29,
     "metadata": {},
     "output_type": "execute_result"
    }
   ],
   "source": [
    "bls_description.get_series_description()"
   ]
  },
  {
   "cell_type": "markdown",
   "id": "8b2f9469-e9d2-409c-88b3-759322e6acc4",
   "metadata": {},
   "source": [
    "# Employment"
   ]
  },
  {
   "cell_type": "code",
   "execution_count": 30,
   "id": "3e978a48-f581-4629-a543-5cefc3439a84",
   "metadata": {
    "tags": []
   },
   "outputs": [],
   "source": [
    "bls_description = BlsGovGetSeriesDescription('LNU01000000')"
   ]
  },
  {
   "cell_type": "code",
   "execution_count": 31,
   "id": "74d0c96b-1c4d-4e27-8814-b0466e4fd0b0",
   "metadata": {
    "tags": []
   },
   "outputs": [
    {
     "data": {
      "text/plain": [
       "'(Unadj) Civilian Labor Force Level'"
      ]
     },
     "execution_count": 31,
     "metadata": {},
     "output_type": "execute_result"
    }
   ],
   "source": [
    "bls_description.get_series_title()"
   ]
  },
  {
   "cell_type": "code",
   "execution_count": 32,
   "id": "c1d371c2-5e35-45d2-a900-37e2093db32f",
   "metadata": {
    "tags": []
   },
   "outputs": [
    {
     "data": {
      "text/html": [
       "<div>\n",
       "<style scoped>\n",
       "    .dataframe tbody tr th:only-of-type {\n",
       "        vertical-align: middle;\n",
       "    }\n",
       "\n",
       "    .dataframe tbody tr th {\n",
       "        vertical-align: top;\n",
       "    }\n",
       "\n",
       "    .dataframe thead th {\n",
       "        text-align: right;\n",
       "    }\n",
       "</style>\n",
       "<table border=\"1\" class=\"dataframe\">\n",
       "  <thead>\n",
       "    <tr style=\"text-align: right;\">\n",
       "      <th></th>\n",
       "      <th>series_id</th>\n",
       "      <th>lfst_code</th>\n",
       "      <th>periodicity_code</th>\n",
       "      <th>series_title</th>\n",
       "      <th>absn_code</th>\n",
       "      <th>activity_code</th>\n",
       "      <th>ages_code</th>\n",
       "      <th>cert_code</th>\n",
       "      <th>class_code</th>\n",
       "      <th>duration_code</th>\n",
       "      <th>...</th>\n",
       "      <th>wkst_code</th>\n",
       "      <th>born_code</th>\n",
       "      <th>chld_code</th>\n",
       "      <th>disa_code</th>\n",
       "      <th>seasonal</th>\n",
       "      <th>footnote_codes</th>\n",
       "      <th>begin_year</th>\n",
       "      <th>begin_period</th>\n",
       "      <th>end_year</th>\n",
       "      <th>end_period</th>\n",
       "    </tr>\n",
       "  </thead>\n",
       "  <tbody>\n",
       "    <tr>\n",
       "      <th>3487</th>\n",
       "      <td>LNU01000000</td>\n",
       "      <td>10</td>\n",
       "      <td>M</td>\n",
       "      <td>(Unadj) Civilian Labor Force Level</td>\n",
       "      <td>0</td>\n",
       "      <td>0</td>\n",
       "      <td>0</td>\n",
       "      <td>0</td>\n",
       "      <td>0</td>\n",
       "      <td>0</td>\n",
       "      <td>...</td>\n",
       "      <td>0</td>\n",
       "      <td>0</td>\n",
       "      <td>0</td>\n",
       "      <td>0</td>\n",
       "      <td>U</td>\n",
       "      <td>NaN</td>\n",
       "      <td>1947</td>\n",
       "      <td>M13</td>\n",
       "      <td>2023</td>\n",
       "      <td>M10</td>\n",
       "    </tr>\n",
       "  </tbody>\n",
       "</table>\n",
       "<p>1 rows × 41 columns</p>\n",
       "</div>"
      ],
      "text/plain": [
       "        series_id  lfst_code periodicity_code  \\\n",
       "3487  LNU01000000         10                M   \n",
       "\n",
       "                            series_title  absn_code  activity_code  ages_code  \\\n",
       "3487  (Unadj) Civilian Labor Force Level          0              0          0   \n",
       "\n",
       "      cert_code  class_code  duration_code  ...  wkst_code  born_code  \\\n",
       "3487          0           0              0  ...          0          0   \n",
       "\n",
       "      chld_code  disa_code  seasonal  footnote_codes  begin_year  \\\n",
       "3487          0          0         U             NaN        1947   \n",
       "\n",
       "      begin_period  end_year  end_period  \n",
       "3487           M13      2023         M10  \n",
       "\n",
       "[1 rows x 41 columns]"
      ]
     },
     "execution_count": 32,
     "metadata": {},
     "output_type": "execute_result"
    }
   ],
   "source": [
    "bls_description.get_series_description()"
   ]
  },
  {
   "cell_type": "code",
   "execution_count": 37,
   "id": "b0074167-cdae-4439-a5fd-8b3e0822b003",
   "metadata": {
    "tags": []
   },
   "outputs": [
    {
     "data": {
      "text/plain": [
       "'https://beta.bls.gov/dataViewer/view/timeseries/LNU02000000'"
      ]
     },
     "execution_count": 37,
     "metadata": {},
     "output_type": "execute_result"
    }
   ],
   "source": [
    "bls_description = BlsGovGetSeriesDescription('LNU02000000')\n",
    "bls_description.get_link_to_timeseries_viewer()"
   ]
  },
  {
   "cell_type": "code",
   "execution_count": 34,
   "id": "8eebb1ec-2a59-47eb-9683-52e14f981d4f",
   "metadata": {
    "tags": []
   },
   "outputs": [
    {
     "data": {
      "text/plain": [
       "'(Unadj) Employment Level'"
      ]
     },
     "execution_count": 34,
     "metadata": {},
     "output_type": "execute_result"
    }
   ],
   "source": [
    "bls_description.get_series_title()"
   ]
  },
  {
   "cell_type": "code",
   "execution_count": 35,
   "id": "3cb51032-2706-47fc-b106-dba088a1c1d5",
   "metadata": {
    "tags": []
   },
   "outputs": [
    {
     "data": {
      "text/html": [
       "<div>\n",
       "<style scoped>\n",
       "    .dataframe tbody tr th:only-of-type {\n",
       "        vertical-align: middle;\n",
       "    }\n",
       "\n",
       "    .dataframe tbody tr th {\n",
       "        vertical-align: top;\n",
       "    }\n",
       "\n",
       "    .dataframe thead th {\n",
       "        text-align: right;\n",
       "    }\n",
       "</style>\n",
       "<table border=\"1\" class=\"dataframe\">\n",
       "  <thead>\n",
       "    <tr style=\"text-align: right;\">\n",
       "      <th></th>\n",
       "      <th>series_id</th>\n",
       "      <th>lfst_code</th>\n",
       "      <th>periodicity_code</th>\n",
       "      <th>series_title</th>\n",
       "      <th>absn_code</th>\n",
       "      <th>activity_code</th>\n",
       "      <th>ages_code</th>\n",
       "      <th>cert_code</th>\n",
       "      <th>class_code</th>\n",
       "      <th>duration_code</th>\n",
       "      <th>...</th>\n",
       "      <th>wkst_code</th>\n",
       "      <th>born_code</th>\n",
       "      <th>chld_code</th>\n",
       "      <th>disa_code</th>\n",
       "      <th>seasonal</th>\n",
       "      <th>footnote_codes</th>\n",
       "      <th>begin_year</th>\n",
       "      <th>begin_period</th>\n",
       "      <th>end_year</th>\n",
       "      <th>end_period</th>\n",
       "    </tr>\n",
       "  </thead>\n",
       "  <tbody>\n",
       "    <tr>\n",
       "      <th>8253</th>\n",
       "      <td>LNU02000000</td>\n",
       "      <td>20</td>\n",
       "      <td>M</td>\n",
       "      <td>(Unadj) Employment Level</td>\n",
       "      <td>0</td>\n",
       "      <td>0</td>\n",
       "      <td>0</td>\n",
       "      <td>0</td>\n",
       "      <td>0</td>\n",
       "      <td>0</td>\n",
       "      <td>...</td>\n",
       "      <td>0</td>\n",
       "      <td>0</td>\n",
       "      <td>0</td>\n",
       "      <td>0</td>\n",
       "      <td>U</td>\n",
       "      <td>NaN</td>\n",
       "      <td>1947</td>\n",
       "      <td>M13</td>\n",
       "      <td>2023</td>\n",
       "      <td>M10</td>\n",
       "    </tr>\n",
       "  </tbody>\n",
       "</table>\n",
       "<p>1 rows × 41 columns</p>\n",
       "</div>"
      ],
      "text/plain": [
       "        series_id  lfst_code periodicity_code              series_title  \\\n",
       "8253  LNU02000000         20                M  (Unadj) Employment Level   \n",
       "\n",
       "      absn_code  activity_code  ages_code  cert_code  class_code  \\\n",
       "8253          0              0          0          0           0   \n",
       "\n",
       "      duration_code  ...  wkst_code  born_code  chld_code  disa_code  \\\n",
       "8253              0  ...          0          0          0          0   \n",
       "\n",
       "      seasonal  footnote_codes  begin_year  begin_period  end_year  end_period  \n",
       "8253         U             NaN        1947           M13      2023         M10  \n",
       "\n",
       "[1 rows x 41 columns]"
      ]
     },
     "execution_count": 35,
     "metadata": {},
     "output_type": "execute_result"
    }
   ],
   "source": [
    "bls_description.get_series_description()"
   ]
  },
  {
   "cell_type": "code",
   "execution_count": 38,
   "id": "d7dd1990-a69c-49fe-b1cd-86c12998656d",
   "metadata": {
    "tags": []
   },
   "outputs": [
    {
     "data": {
      "text/plain": [
       "'https://beta.bls.gov/dataViewer/view/timeseries/LNU03000000'"
      ]
     },
     "execution_count": 38,
     "metadata": {},
     "output_type": "execute_result"
    }
   ],
   "source": [
    "bls_description = BlsGovGetSeriesDescription('LNU03000000')\n",
    "bls_description.get_link_to_timeseries_viewer()"
   ]
  },
  {
   "cell_type": "code",
   "execution_count": 39,
   "id": "c7d39844-c81e-4dfa-9c98-d0c88230e7c3",
   "metadata": {
    "tags": []
   },
   "outputs": [
    {
     "data": {
      "text/plain": [
       "'(Unadj) Unemployment Level'"
      ]
     },
     "execution_count": 39,
     "metadata": {},
     "output_type": "execute_result"
    }
   ],
   "source": [
    "bls_description.get_series_title()"
   ]
  },
  {
   "cell_type": "code",
   "execution_count": 40,
   "id": "ad316113-b5cb-4a4e-a849-89695dea4b37",
   "metadata": {
    "tags": []
   },
   "outputs": [
    {
     "data": {
      "text/html": [
       "<div>\n",
       "<style scoped>\n",
       "    .dataframe tbody tr th:only-of-type {\n",
       "        vertical-align: middle;\n",
       "    }\n",
       "\n",
       "    .dataframe tbody tr th {\n",
       "        vertical-align: top;\n",
       "    }\n",
       "\n",
       "    .dataframe thead th {\n",
       "        text-align: right;\n",
       "    }\n",
       "</style>\n",
       "<table border=\"1\" class=\"dataframe\">\n",
       "  <thead>\n",
       "    <tr style=\"text-align: right;\">\n",
       "      <th></th>\n",
       "      <th>series_id</th>\n",
       "      <th>lfst_code</th>\n",
       "      <th>periodicity_code</th>\n",
       "      <th>series_title</th>\n",
       "      <th>absn_code</th>\n",
       "      <th>activity_code</th>\n",
       "      <th>ages_code</th>\n",
       "      <th>cert_code</th>\n",
       "      <th>class_code</th>\n",
       "      <th>duration_code</th>\n",
       "      <th>...</th>\n",
       "      <th>wkst_code</th>\n",
       "      <th>born_code</th>\n",
       "      <th>chld_code</th>\n",
       "      <th>disa_code</th>\n",
       "      <th>seasonal</th>\n",
       "      <th>footnote_codes</th>\n",
       "      <th>begin_year</th>\n",
       "      <th>begin_period</th>\n",
       "      <th>end_year</th>\n",
       "      <th>end_period</th>\n",
       "    </tr>\n",
       "  </thead>\n",
       "  <tbody>\n",
       "    <tr>\n",
       "      <th>40593</th>\n",
       "      <td>LNU03000000</td>\n",
       "      <td>30</td>\n",
       "      <td>M</td>\n",
       "      <td>(Unadj) Unemployment Level</td>\n",
       "      <td>0</td>\n",
       "      <td>0</td>\n",
       "      <td>0</td>\n",
       "      <td>0</td>\n",
       "      <td>0</td>\n",
       "      <td>0</td>\n",
       "      <td>...</td>\n",
       "      <td>0</td>\n",
       "      <td>0</td>\n",
       "      <td>0</td>\n",
       "      <td>0</td>\n",
       "      <td>U</td>\n",
       "      <td>NaN</td>\n",
       "      <td>1947</td>\n",
       "      <td>M13</td>\n",
       "      <td>2023</td>\n",
       "      <td>M10</td>\n",
       "    </tr>\n",
       "  </tbody>\n",
       "</table>\n",
       "<p>1 rows × 41 columns</p>\n",
       "</div>"
      ],
      "text/plain": [
       "         series_id  lfst_code periodicity_code                series_title  \\\n",
       "40593  LNU03000000         30                M  (Unadj) Unemployment Level   \n",
       "\n",
       "       absn_code  activity_code  ages_code  cert_code  class_code  \\\n",
       "40593          0              0          0          0           0   \n",
       "\n",
       "       duration_code  ...  wkst_code  born_code  chld_code  disa_code  \\\n",
       "40593              0  ...          0          0          0          0   \n",
       "\n",
       "       seasonal  footnote_codes  begin_year  begin_period  end_year  \\\n",
       "40593         U             NaN        1947           M13      2023   \n",
       "\n",
       "       end_period  \n",
       "40593         M10  \n",
       "\n",
       "[1 rows x 41 columns]"
      ]
     },
     "execution_count": 40,
     "metadata": {},
     "output_type": "execute_result"
    }
   ],
   "source": [
    "bls_description.get_series_description()"
   ]
  },
  {
   "cell_type": "code",
   "execution_count": null,
   "id": "b47ff762-f8b0-4e29-854c-f87ec16b8cb2",
   "metadata": {},
   "outputs": [],
   "source": []
  }
 ],
 "metadata": {
  "kernelspec": {
   "display_name": "Python 3 (ipykernel)",
   "language": "python",
   "name": "python3"
  },
  "language_info": {
   "codemirror_mode": {
    "name": "ipython",
    "version": 3
   },
   "file_extension": ".py",
   "mimetype": "text/x-python",
   "name": "python",
   "nbconvert_exporter": "python",
   "pygments_lexer": "ipython3",
   "version": "3.10.13"
  }
 },
 "nbformat": 4,
 "nbformat_minor": 5
}
