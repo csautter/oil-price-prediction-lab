{
 "cells": [
  {
   "cell_type": "code",
   "execution_count": 2,
   "id": "d411f6ff-8d3d-42d7-bf96-d49d8f6707e0",
   "metadata": {
    "ExecuteTime": {
     "end_time": "2024-10-06T08:30:20.523640Z",
     "start_time": "2024-10-06T08:30:19.908306Z"
    }
   },
   "outputs": [],
   "source": [
    "import os\n",
    "\n",
    "from dotenv import load_dotenv\n",
    "load_dotenv()\n",
    "\n",
    "if \"EIA_TOKEN\" not in os.environ:\n",
    "    raise EnvironmentError(\"EIA_TOKEN not found in environment variables\")\n",
    "\n",
    "from myeia.api import API\n",
    "eia = API(token=os.environ[\"EIA_TOKEN\"])"
   ]
  },
  {
   "cell_type": "code",
   "execution_count": 4,
   "id": "5a2d5596-0451-4332-a145-5c9e663d5138",
   "metadata": {
    "ExecuteTime": {
     "end_time": "2024-10-06T08:30:24.617387Z",
     "start_time": "2024-10-06T08:30:22.444230Z"
    }
   },
   "outputs": [
    {
     "data": {
      "text/html": [
       "<div>\n",
       "<style scoped>\n",
       "    .dataframe tbody tr th:only-of-type {\n",
       "        vertical-align: middle;\n",
       "    }\n",
       "\n",
       "    .dataframe tbody tr th {\n",
       "        vertical-align: top;\n",
       "    }\n",
       "\n",
       "    .dataframe thead th {\n",
       "        text-align: right;\n",
       "    }\n",
       "</style>\n",
       "<table border=\"1\" class=\"dataframe\">\n",
       "  <thead>\n",
       "    <tr style=\"text-align: right;\">\n",
       "      <th></th>\n",
       "      <th>Natural Gas Futures Contract 1 (Dollars per Million Btu)</th>\n",
       "    </tr>\n",
       "    <tr>\n",
       "      <th>Date</th>\n",
       "      <th></th>\n",
       "    </tr>\n",
       "  </thead>\n",
       "  <tbody>\n",
       "    <tr>\n",
       "      <th>2024-04-05</th>\n",
       "      <td>1.785</td>\n",
       "    </tr>\n",
       "    <tr>\n",
       "      <th>2024-04-04</th>\n",
       "      <td>1.774</td>\n",
       "    </tr>\n",
       "    <tr>\n",
       "      <th>2024-04-03</th>\n",
       "      <td>1.841</td>\n",
       "    </tr>\n",
       "    <tr>\n",
       "      <th>2024-04-02</th>\n",
       "      <td>1.862</td>\n",
       "    </tr>\n",
       "    <tr>\n",
       "      <th>2024-04-01</th>\n",
       "      <td>1.837</td>\n",
       "    </tr>\n",
       "  </tbody>\n",
       "</table>\n",
       "</div>"
      ],
      "text/plain": [
       "            Natural Gas Futures Contract 1 (Dollars per Million Btu)\n",
       "Date                                                                \n",
       "2024-04-05                                              1.785       \n",
       "2024-04-04                                              1.774       \n",
       "2024-04-03                                              1.841       \n",
       "2024-04-02                                              1.862       \n",
       "2024-04-01                                              1.837       "
      ]
     },
     "execution_count": 4,
     "metadata": {},
     "output_type": "execute_result"
    }
   ],
   "source": [
    "df = eia.get_series(series_id=\"NG.RNGC1.D\")\n",
    "df.head()"
   ]
  },
  {
   "cell_type": "code",
   "execution_count": 5,
   "id": "bb8e69e4-b016-4d80-a2ff-43744723e2c7",
   "metadata": {
    "ExecuteTime": {
     "end_time": "2024-10-05T19:06:41.036899Z",
     "start_time": "2024-10-05T19:06:39.504099Z"
    }
   },
   "outputs": [
    {
     "data": {
      "text/html": [
       "<div>\n",
       "<style scoped>\n",
       "    .dataframe tbody tr th:only-of-type {\n",
       "        vertical-align: middle;\n",
       "    }\n",
       "\n",
       "    .dataframe tbody tr th {\n",
       "        vertical-align: top;\n",
       "    }\n",
       "\n",
       "    .dataframe thead th {\n",
       "        text-align: right;\n",
       "    }\n",
       "</style>\n",
       "<table border=\"1\" class=\"dataframe\">\n",
       "  <thead>\n",
       "    <tr style=\"text-align: right;\">\n",
       "      <th></th>\n",
       "      <th>Natural Gas Futures Contract 1 (Dollars per Million Btu)</th>\n",
       "    </tr>\n",
       "    <tr>\n",
       "      <th>Date</th>\n",
       "      <th></th>\n",
       "    </tr>\n",
       "  </thead>\n",
       "  <tbody>\n",
       "    <tr>\n",
       "      <th>2024-04-05</th>\n",
       "      <td>1.785</td>\n",
       "    </tr>\n",
       "    <tr>\n",
       "      <th>2024-04-04</th>\n",
       "      <td>1.774</td>\n",
       "    </tr>\n",
       "    <tr>\n",
       "      <th>2024-04-03</th>\n",
       "      <td>1.841</td>\n",
       "    </tr>\n",
       "    <tr>\n",
       "      <th>2024-04-02</th>\n",
       "      <td>1.862</td>\n",
       "    </tr>\n",
       "    <tr>\n",
       "      <th>2024-04-01</th>\n",
       "      <td>1.837</td>\n",
       "    </tr>\n",
       "  </tbody>\n",
       "</table>\n",
       "</div>"
      ],
      "text/plain": [
       "           Natural Gas Futures Contract 1 (Dollars per Million Btu)\n",
       "Date                                                               \n",
       "2024-04-05                                              1.785      \n",
       "2024-04-04                                              1.774      \n",
       "2024-04-03                                              1.841      \n",
       "2024-04-02                                              1.862      \n",
       "2024-04-01                                              1.837      "
      ]
     },
     "execution_count": 5,
     "metadata": {},
     "output_type": "execute_result"
    }
   ],
   "source": [
    "df = eia.get_series_via_route(\n",
    "    route=\"natural-gas/pri/fut\",\n",
    "    series=\"RNGC1\",\n",
    "    frequency=\"daily\",\n",
    ")\n",
    "\n",
    "df.head()"
   ]
  },
  {
   "cell_type": "code",
   "execution_count": null,
   "id": "598433b1-3569-4826-b3d8-9cdc864d90ed",
   "metadata": {},
   "outputs": [],
   "source": []
  }
 ],
 "metadata": {
  "kernelspec": {
   "display_name": "Python 3 (ipykernel)",
   "language": "python",
   "name": "python3"
  },
  "language_info": {
   "codemirror_mode": {
    "name": "ipython",
    "version": 3
   },
   "file_extension": ".py",
   "mimetype": "text/x-python",
   "name": "python",
   "nbconvert_exporter": "python",
   "pygments_lexer": "ipython3",
   "version": "3.10.0"
  }
 },
 "nbformat": 4,
 "nbformat_minor": 5
}
